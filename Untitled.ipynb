{
 "cells": [
  {
   "cell_type": "code",
   "execution_count": null,
   "id": "c60f7c82-0a22-4904-8205-bb21e5926d27",
   "metadata": {
    "tags": []
   },
   "outputs": [
    {
     "name": "stdout",
     "output_type": "stream",
     "text": [
      "Importing Libraries...\n",
      "Parsing Arguments...\n",
      "ARGS Dict{String, Any}(\"params_json\" => \"./data/example_config/LibrarySearch.json\", \"experiment_name\" => \"TEST_102321_01\", \"spec_lib_dir\" => \"/Users/n.t.wamsley/RIS_temp/BUILD_PROSIT_LIBS/nOf3_y4b3_102123\", \"data_dir\" => \"/Users/n.t.wamsley/TEST_DATA/PXD028735/\", \"print_params\" => \"true\")\n",
      ":b_min_ind => 2\n",
      ":y_min_ind => 3\n",
      ":expected_matches => 1000000\n",
      ":frag_ppm_err => 0.0\n",
      ":frag_tol_quantile => 0.975f0\n",
      ":frag_tol_presearch => 40.0\n",
      ":intensity_filter_fraction => 0.01f0\n",
      ":LsqFit_tol => 0.001\n",
      ":Lsq_max_iter => 100\n",
      ":nnls_max_iter => 1000\n",
      ":max_peaks => false\n",
      ":max_peak_width => 2.0\n",
      ":min_frag_count => 2\n",
      ":min_frag_count_presearch => 7\n",
      ":min_frag_count_index_search => 0\n",
      ":min_matched_ratio => 0.0f0\n",
      ":min_matched_ratio_presearch => 1.0f0\n",
      ":min_matched_ratio_index_search => 1.25f0\n",
      ":min_spectral_contrast => 0.0f0\n",
      ":min_spectral_contrast_presearch => 0.9f0\n",
      ":most_intense => false\n",
      ":n_quadrature_nodes => 100\n",
      ":nnls_tol => 100.0f0\n",
      ":prec_tolerance => 5.0\n",
      ":quadrupole_isolation_width => 8.0036\n",
      ":regularize => false\n",
      ":rt_bounds => (-20.0, 200.0)\n",
      ":rt_tol => 20.0\n",
      ":sample_rate => 0.01\n",
      ":tail_distance => 0.25f0\n",
      ":topN_presearch => 5000\n",
      ":topN => 5000\n",
      ":topN_index_search => 10000\n",
      ":huber_δ => 10000.0f0\n",
      ":λ => 0.0f0\n",
      ":γ => 0.0f0\n",
      "1:5\n",
      "Loading spectral libraries into main memory...\n",
      "Begin processing: 18 files\n",
      "Starting Pre Search...\n",
      "max_peak_width 2.0\n",
      "max_peak_width 2.0\n",
      "max_peak_width 2.0\n",
      "max_peak_width 2.0\n",
      "max_peak_width 2.0\n",
      "max_peak_width 2.0\n",
      "max_peak_width 2.0\n",
      "max_peak_width 2.0\n",
      "max_peak_width 2.0\n",
      "solve_time 17.601635015000006\n",
      "prep_time 1.250252851\n",
      "index_search_time 8.875072472999996\n",
      "index_ions_time 5.178166130000003\n",
      "(2603, 26)\n",
      "(2383, 26)\n",
      "solve_time 23.165812302999967\n",
      "prep_time 1.5733318080000005\n",
      "index_search_time 10.407941972999998\n",
      "index_ions_time 7.254880686999999\n",
      "(3134, 26)\n",
      "(2925, 26)\n",
      "solve_time 24.290214245000023\n",
      "prep_time 1.7843047809999997\n",
      "index_search_time 10.220651053000017\n",
      "index_ions_time 7.543763112999997\n",
      "(3058, 26)\n",
      "(2792, 26)\n",
      "([(-1.577670737541414, 3.059638865830219), (-16.03091100120558, 16.098864315952678)], [0.763003039824503, 0.2369969601754971])\n",
      "solve_time 28.80184155000002\n",
      "prep_time 1.5155569429999993\n",
      "index_search_time 10.355784275000028\n",
      "index_ions_time 7.671622793000001\n",
      "(3447, 26)\n",
      "(3071, 26)\n",
      "solve_time 29.359864374999994\n",
      "prep_time 1.8430865109999977\n",
      "index_search_time 10.150456169000005\n",
      "index_ions_time 7.7415851379999925\n",
      "(3578, 26)\n",
      "(3183, 26)\n",
      "([(-0.9947975562324883, 2.989936058201427), (-16.083079905271415, 16.090608560094402)], [0.7508578997088406, 0.2491421002911593])\n",
      "([(-1.1337258555113745, 2.974782628706345), (-16.067359727765368, 16.00512029775222)], [0.7092002968715113, 0.2907997031284887])\n",
      "([(-1.2395142133580426, 3.0094570588855203), (-16.08400716169841, 16.09880356233841)], [0.7668628132298423, 0.23313718677015755])\n",
      "([(-0.9062612973736611, 2.975878660755022), (-16.000545618605596, 16.094542122198508)], [0.7566074340025153, 0.24339256599748488])\n",
      "solve_time 30.047094279000003\n",
      "prep_time 1.733420680000003\n",
      "index_search_time 10.664217171999985\n",
      "index_ions_time 8.177011853000005\n",
      "(3638, 26)\n",
      "(3300, 26)\n",
      "([(-1.0823111533431573, 2.970035748168168), (-16.0817512580004, 16.099470544795892)], [0.7652620316423818, 0.23473796835761823])\n",
      "max_peak_width 2.0\n",
      "max_peak_width 2.0\n",
      "max_peak_width 2.0\n",
      "max_peak_width 2.0\n",
      "max_peak_width 2.0\n",
      "max_peak_width 2.0\n",
      "solve_time 35.424137237000124\n",
      "prep_time 1.7321379109999986\n",
      "index_search_time 11.043492071999975\n",
      "index_ions_time 20.55185114299999\n",
      "(3693, 26)\n",
      "(3131, 26)\n",
      "([(-1.1322656664257595, 2.8110173643781886), (-16.095742428500856, 16.08342617352442)], [0.7122460953179318, 0.2877539046820682])\n",
      "solve_time 36.781462734999955\n",
      "prep_time 11.893624984999986\n",
      "index_search_time 11.410524310000008\n",
      "index_ions_time 21.31300373300003\n",
      "(3714, 26)\n",
      "(3065, 26)\n",
      "([(-0.9786684875936863, 2.907095488791929), (-16.06239873504926, 16.081989244179137)], [0.7258281366963764, 0.2741718633036236])\n",
      "max_peak_width 2.0\n",
      "solve_time 37.58890034900006\n",
      "prep_time 1.8569116980000013\n",
      "index_search_time 11.565944350999965\n",
      "index_ions_time 9.483339595999986\n",
      "(3958, 26)\n",
      "(3477, 26)\n",
      "([(-1.090908801759214, 3.042647879922489), (-16.080034168516473, 16.09962959200891)], [0.7589245683775064, 0.24107543162249362])\n",
      "max_peak_width 2.0\n",
      "max_peak_width 2.0\n",
      "solve_time 23.996698455000022\n",
      "prep_time 1.2534501939999994\n",
      "index_search_time 9.12188970099998\n",
      "index_ions_time 6.09533425799999\n",
      "(3221, 26)\n",
      "(2865, 26)\n",
      "([(-1.0665812333810794, 3.0098585776928615), (-16.034084239480702, 16.028713195670196)], [0.7699063292585047, 0.2300936707414954])\n",
      "solve_time 25.875467402000005\n",
      "prep_time 1.3191132879999987\n",
      "index_search_time 9.627214896\n",
      "index_ions_time 12.001830254999987\n",
      "(3289, 26)\n",
      "(2944, 26)\n",
      "([(-1.1156398424077067, 3.0323766519669855), (-16.008631399367516, 16.093866367327177)], [0.7486455439983635, 0.2513544560016365])\n",
      "solve_time 26.675784127999975\n",
      "prep_time 1.3370992530000008\n",
      "index_search_time 9.427204826000024\n",
      "index_ions_time 10.974171935000005\n",
      "(3417, 26)\n",
      "(3061, 26)\n",
      "([(-1.0473296505397414, 2.821242792861294), (-16.093261169068533, 15.93788051689734)], [0.7238157228460447, 0.2761842771539553])\n",
      "solve_time 18.833085809000014\n",
      "prep_time 1.088270224\n",
      "index_search_time 9.095036237000022\n",
      "index_ions_time 5.1301723590000075\n",
      "(2943, 26)\n",
      "(2758, 26)\n",
      "([(-1.1238070033180514, 2.9831993272949218), (-16.07263387896397, 16.001435557361432)], [0.7902220170468458, 0.20977798295315417])\n",
      "solve_time 27.742551403000054\n",
      "prep_time 1.325791481\n",
      "index_search_time 9.532898709000014\n",
      "index_ions_time 11.930437787000002\n",
      "(3372, 26)\n",
      "(2949, 26)\n",
      "([(-1.1948507801508381, 3.040400744709847), (-16.098975635896903, 16.028141491199406)], [0.7730763304698377, 0.22692366953016233])\n",
      "solve_time 24.701268251999988\n",
      "prep_time 1.2745875139999998\n",
      "index_search_time 9.10586659599999\n",
      "index_ions_time 6.237091511000002\n",
      "(3294, 26)\n",
      "(2964, 26)\n",
      "([(-1.004273805636929, 2.9270526841070708), (-16.099217260487773, 16.065535624957736)], [0.7846597442420891, 0.21534025575791096])\n",
      "solve_time 22.88429240599996\n",
      "prep_time 1.1842506159999984\n",
      "index_search_time 14.072718112999993\n",
      "index_ions_time 5.795228601000015\n",
      "(3446, 26)\n",
      "(3180, 26)\n",
      "([(-1.1147408416912294, 3.028245114389943), (-16.050507016202754, 16.07987193989987)], [0.7719540521589424, 0.22804594784105767])\n",
      "solve_time 33.51906961900002\n",
      "prep_time 1.643964870000003\n",
      "index_search_time 9.942638607000019\n",
      "index_ions_time 7.747476345000003\n",
      "(3914, 26)\n",
      "(3353, 26)\n",
      "([(-1.2233109349945037, 3.039974040841937), (-16.09293099191062, 16.06028293503586)], [0.7683760201837179, 0.23162397981628213])\n",
      "solve_time 37.26815346799997\n",
      "prep_time 6.287555433000003\n",
      "index_search_time 10.308813885000015\n",
      "index_ions_time 8.53181660300003\n",
      "(4098, 26)\n",
      "(3445, 26)\n",
      "([(-0.8870095884252905, 2.803996606266241), (-16.083055413942805, 16.01164717628788)], [0.7500279322823179, 0.24997206771768204])\n",
      "Finished presearch in 201.115261387 seconds\n",
      "Begining Main Search...\n",
      "max_peak_width 2.0\n",
      "max_peak_width 2.0\n",
      "max_peak_width 2.0\n",
      "max_peak_width 2.0\n",
      "max_peak_width 2.0\n",
      "max_peak_width 2.0\n",
      "max_peak_width 2.0\n",
      "max_peak_width 2.0\n",
      "max_peak_width 2.0\n",
      "solve_time 296.42018375700263\n",
      "prep_time 39.65756573499929\n",
      "index_search_time 388.91642013300117\n",
      "index_ions_time 352.97972403499995\n",
      "TEST\n",
      "TEST2\n",
      "solve_time 360.00795193800644\n",
      "prep_time 44.729631619999864\n",
      "index_search_time 421.878052488006\n",
      "index_ions_time 287.1964858639982\n",
      "solve_time 345.78001940900066\n",
      "prep_time 55.09205277299918\n",
      "index_search_time 471.4449083290013\n",
      "index_ions_time 348.1975288510015\n",
      "Target PSMs at 1% FDR: 312654\n",
      "TEST\n",
      "TEST2\n",
      "TEST\n",
      "TEST2\n",
      "max_peak_width 2.0\n",
      "Target PSMs at 1% FDR: 350064\n",
      "solve_time 464.07653067199595\n",
      "prep_time 60.323905704000275\n",
      "index_search_time 561.486948051005\n",
      "index_ions_time 351.1042004680085\n",
      "Target PSMs at 1% FDR: 367848\n",
      "solve_time 450.90708674399866\n",
      "prep_time 58.04858412199914\n",
      "index_search_time 524.3186307500122\n",
      "index_ions_time 390.7922136170101\n",
      "solve_time 498.42039709699696\n",
      "prep_time 55.43676476199955\n",
      "index_search_time 589.2073877250085\n",
      "index_ions_time 332.7535841930076\n",
      "max_peak_width 2.0\n",
      "max_peak_width 2.0\n",
      "TEST\n",
      "TEST2\n",
      "TEST\n",
      "TEST2\n"
     ]
    }
   ],
   "source": [
    ";julia --threads 9 ./src/Routines/LibrarySearch/routine.jl ./data/example_config/LibrarySearch.json /Users/n.t.wamsley/TEST_DATA/PXD028735/ /Users/n.t.wamsley/RIS_temp/BUILD_PROSIT_LIBS/nOf3_y4b3_102123 -s true -e TEST_102321_01\n"
   ]
  },
  {
   "cell_type": "code",
   "execution_count": null,
   "id": "eae7b3ee-67a6-4974-a778-2b345bf1c58f",
   "metadata": {
    "tags": []
   },
   "outputs": [],
   "source": [
    ";julia --threads 4 ./src/Routines/LibrarySearch/routine.jl ./data/example_config/LibrarySearch-Copy1.json /Users/n.t.wamsley/TEST_DATA/mzXML/ /Users/n.t.wamsley/RIS_temp/BUILD_PROSIT_LIBS/nOf3_y4b3_102123 -s true -e TEST_102321_02\n"
   ]
  },
  {
   "cell_type": "code",
   "execution_count": null,
   "id": "8c4a335b-c7c6-4f20-bae8-ad04d4561e90",
   "metadata": {
    "tags": []
   },
   "outputs": [],
   "source": [
    "using JLD2, DataFrames"
   ]
  },
  {
   "cell_type": "code",
   "execution_count": null,
   "id": "eef5101e-d5d0-479b-bc53-006bc8f9fd8d",
   "metadata": {
    "tags": []
   },
   "outputs": [],
   "source": [
    "best_psms_unscored = load(\"/Users/n.t.wamsley/TEST_DATA/mzXML/TEST_101823_02/Search/RESULTS/best_psms_unscored.jld2\")"
   ]
  },
  {
   "cell_type": "code",
   "execution_count": null,
   "id": "21e2579b-419d-4da0-bc54-346aed5b4b63",
   "metadata": {
    "tags": []
   },
   "outputs": [],
   "source": [
    "#best_psms_unscored = best_psms_unscored[\"best_psms\"]"
   ]
  },
  {
   "cell_type": "code",
   "execution_count": null,
   "id": "a60df4bb-9e9b-4858-8980-04dcd6256427",
   "metadata": {
    "tags": []
   },
   "outputs": [],
   "source": [
    "#=for col in names(best_psms_unscored)\n",
    "    if eltype(best_psms_unscored[!,col]) == String\n",
    "        continue\n",
    "    end\n",
    "    println(\"$col is nan \", any(isnan.(skipmissing(best_psms_unscored[!,col]))))\n",
    "    println(\"$col is inf \", any(isnan.(skipmissing(best_psms_unscored[!,col]))))\n",
    "end=#"
   ]
  },
  {
   "cell_type": "code",
   "execution_count": null,
   "id": "8cde9d94-2f9a-441e-aeee-6fea8cb4c620",
   "metadata": {
    "tags": []
   },
   "outputs": [],
   "source": [
    "using Random, XGBoost"
   ]
  },
  {
   "cell_type": "code",
   "execution_count": null,
   "id": "60d28d6e-adcd-4862-8eab-42d854fc94a7",
   "metadata": {
    "tags": []
   },
   "outputs": [],
   "source": [
    "features = [ :FWHM,\n",
    "    :FWHM_01,\n",
    "    :GOF,\n",
    "    :H,\n",
    "    :Mox,\n",
    "    :RT,\n",
    "    :RT_error,\n",
    "    :b_ladder,\n",
    "    :base_width_min,\n",
    "    :best_rank,\n",
    "    :charge,\n",
    "    :city_block,\n",
    "    :data_points,\n",
    "    :entropy_sim,\n",
    "    :err_norm_log2,\n",
    "    :error,\n",
    "    :hyperscore,\n",
    "    :intensity_explained,\n",
    "    :ions_sum,\n",
    "    :log_sum_of_weights,\n",
    "    :matched_ratio,\n",
    "    :mean_log_entropy,\n",
    "    :mean_log_probability,\n",
    "    :mean_log_spectral_contrast,\n",
    "    :mean_matched_ratio,\n",
    "    :mean_scribe_score,\n",
    "    :missed_cleavage,\n",
    "    :ms1_ms2_diff,\n",
    "    :peak_area,\n",
    "    :peak_area_ms1,\n",
    "    :points_above_FWHM,\n",
    "    :points_above_FWHM_01,\n",
    "    :poisson,\n",
    "    :prec_mz,\n",
    "    :scribe_score,\n",
    "    :sequence_length,\n",
    "    :spectral_contrast,\n",
    "    :spectrum_peaks,\n",
    "    :topn,\n",
    "    :total_ions,\n",
    "    :weight,\n",
    "    :y_ladder,\n",
    "    :ρ,\n",
    "\n",
    "    :log2_base_peak_intensity,\n",
    "    :TIC,\n",
    "    :adjusted_intensity_explained\n",
    "    ]\n",
    "\n",
    "\n",
    "xgboost_time = @timed bst = rankPSMs!(best_psms_unscored, \n",
    "                        features,\n",
    "                        colsample_bytree = 1.0, \n",
    "                        min_child_weight = 5, \n",
    "                        gamma = 1, \n",
    "                        subsample = 0.5, \n",
    "                        n_folds = 2, \n",
    "                        num_round = 200, \n",
    "                        max_depth = 10, \n",
    "                        eta = 0.05, \n",
    "                        #eta = 0.0175,\n",
    "                        train_fraction = 2.0/9.0,\n",
    "                        n_iters = 2);"
   ]
  },
  {
   "cell_type": "code",
   "execution_count": null,
   "id": "cd9ef0ed-8a88-4b3a-a9a3-26e9ded88d0f",
   "metadata": {
    "tags": []
   },
   "outputs": [],
   "source": [
    ";julia --threads 9 ./src/Routines/LibrarySearch/routine.jl ./data/example_config/LibrarySearch_101823-Copy3.json /Users/n.t.wamsley/TEST_DATA/mzXML/ /Users/n.t.wamsley/RIS_temp/BUILD_PROSIT_LIBS/nOf3_indy4b3_ally3b2 -s true -e TEST_101823_03\n"
   ]
  },
  {
   "cell_type": "code",
   "execution_count": null,
   "id": "ac35912a-a589-409d-9054-db18ed80c6cd",
   "metadata": {
    "tags": []
   },
   "outputs": [],
   "source": [
    ";julia --threads 9 ./src/Routines/LibrarySearch/routine.jl ./data/example_config/LibrarySearch_101823-Copy4.json /Users/n.t.wamsley/TEST_DATA/mzXML/ /Users/n.t.wamsley/RIS_temp/BUILD_PROSIT_LIBS/nOf3_indy4b3_ally3b2 -s true -e TEST_101823_04\n"
   ]
  },
  {
   "cell_type": "code",
   "execution_count": null,
   "id": "c43dc4c7-1754-41d0-8fe9-5261b6f0bd2d",
   "metadata": {
    "tags": []
   },
   "outputs": [],
   "source": [
    ";julia --threads 9 ./src/Routines/LibrarySearch/routine.jl ./data/example_config/LibrarySearch_101823-Copy5.json /Users/n.t.wamsley/TEST_DATA/mzXML/ /Users/n.t.wamsley/RIS_temp/BUILD_PROSIT_LIBS/nOf3_indy4b3_ally3b2 -s true -e TEST_101823_05\n"
   ]
  },
  {
   "cell_type": "code",
   "execution_count": null,
   "id": "a9b01bca-c64f-4958-8465-dbcd1f9ee7fd",
   "metadata": {},
   "outputs": [],
   "source": [
    ";julia --threads 9 ./src/Routines/LibrarySearch/routine.jl ./data/example_config/LibrarySearch_101823-Copy6.json /Users/n.t.wamsley/TEST_DATA/mzXML/ /Users/n.t.wamsley/RIS_temp/BUILD_PROSIT_LIBS/nOf3_indy4b3_ally3b2 -s true -e TEST_101823_06\n"
   ]
  },
  {
   "cell_type": "code",
   "execution_count": null,
   "id": "c33e2ccc-f8a3-4818-bfb8-999c13d3d56b",
   "metadata": {
    "tags": []
   },
   "outputs": [],
   "source": [
    ";julia --threads 9 ./src/Routines/LibrarySearch/routine.jl ./data/example_config/LibrarySearch_101823-Copy7.json /Users/n.t.wamsley/TEST_DATA/mzXML/ /Users/n.t.wamsley/RIS_temp/BUILD_PROSIT_LIBS/nOf3_indy4b3_ally3b2 -s true -e TEST_101823_07\n"
   ]
  },
  {
   "cell_type": "code",
   "execution_count": null,
   "id": "6a3e238d-7dcd-49af-8135-6e474d503304",
   "metadata": {
    "tags": []
   },
   "outputs": [],
   "source": [
    ";julia --threads 9 ./src/Routines/LibrarySearch/routine.jl ./data/example_config/LibrarySearch_101823-Copy8.json /Users/n.t.wamsley/TEST_DATA/mzXML/ /Users/n.t.wamsley/RIS_temp/BUILD_PROSIT_LIBS/nOf3_indy4b3_ally3b2 -s true -e TEST_101823_08\n"
   ]
  },
  {
   "cell_type": "code",
   "execution_count": null,
   "id": "cf88eab6-e8fd-4d8e-a8e4-ac9223140a7b",
   "metadata": {},
   "outputs": [],
   "source": []
  }
 ],
 "metadata": {
  "kernelspec": {
   "display_name": "Julia 1.9.2",
   "language": "julia",
   "name": "julia-1.9"
  },
  "language_info": {
   "file_extension": ".jl",
   "mimetype": "application/julia",
   "name": "julia",
   "version": "1.9.2"
  }
 },
 "nbformat": 4,
 "nbformat_minor": 5
}
