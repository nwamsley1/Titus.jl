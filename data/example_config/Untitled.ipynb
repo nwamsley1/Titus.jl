{
 "cells": [
  {
   "cell_type": "code",
   "execution_count": null,
   "id": "1215d9a0-88c2-4112-ad28-241401b3a983",
   "metadata": {},
   "outputs": [],
   "source": []
  }
 ],
 "metadata": {
  "kernelspec": {
   "display_name": "Julia 1.9.2",
   "language": "julia",
   "name": "julia-1.9"
  },
  "language_info": {
   "file_extension": ".jl",
   "mimetype": "application/julia",
   "name": "julia",
   "version": "1.9.2"
  }
 },
 "nbformat": 4,
 "nbformat_minor": 5
}
