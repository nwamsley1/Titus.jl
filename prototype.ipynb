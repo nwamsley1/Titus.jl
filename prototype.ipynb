{
 "cells": [
  {
   "cell_type": "markdown",
   "id": "5459122a-7fab-47e2-91b8-f624b7eb32ec",
   "metadata": {},
   "source": [
    "# Prototype new concepts before introduction into test and src"
   ]
  },
  {
   "cell_type": "code",
   "execution_count": null,
   "id": "be0c5097-909d-4fa4-aa63-1e5b1df661f6",
   "metadata": {},
   "outputs": [],
   "source": []
  },
  {
   "cell_type": "code",
   "execution_count": null,
   "id": "15d5b380-5a8f-470c-9c58-c51df15c94a9",
   "metadata": {},
   "outputs": [],
   "source": []
  },
  {
   "cell_type": "code",
   "execution_count": 2,
   "id": "aa8b083e-0353-47d5-96c3-cb745a5b8394",
   "metadata": {},
   "outputs": [
    {
     "name": "stderr",
     "output_type": "stream",
     "text": [
      "WARNING: redefinition of constant AA_to_mass. This may fail, cause incorrect answers, or produce other errors.\n",
      "WARNING: redefinition of constant default_mods. This may fail, cause incorrect answers, or produce other errors.\n"
     ]
    }
   ],
   "source": [
    "##########\n",
    "#Global Constants\n",
    "##########\n",
    "const H2O = Float32(18.010565)\n",
    "const PROTON = Float32(1.0072764)\n",
    "const NEUTRON = Float32(1.00335)\n",
    "const AA_to_mass =\n",
    "Dict{Char, Float32}(\n",
    "        'A' => 71.03711,\n",
    "        'R' => 156.10111,\n",
    "        'N' => 114.04293,\n",
    "        'D' => 115.02694,\n",
    "        'C' => 103.00919,\n",
    "        'E' => 129.04259,\n",
    "        'Q' => 128.05858,\n",
    "        'G' => 57.02146,\n",
    "        'H' => 137.05891,\n",
    "        'I' => 113.08406,\n",
    "        'L' => 113.08406,\n",
    "        'K' => 128.09496,\n",
    "        'M' => 131.04049,\n",
    "        'F' => 147.06841,\n",
    "        'P' => 97.05276,\n",
    "        'S' => 87.03203,\n",
    "        'T' => 101.04768,\n",
    "        'W' => 186.07931,\n",
    "        'Y' => 163.06333,\n",
    "        'V' => 99.06841,\n",
    "        'U' => 150.95363,\n",
    "        'O' => 237.14773\n",
    ")\n",
    "\n",
    "const default_mods = \n",
    "Dict{String, Float32}(\n",
    "    \"Carb\" => 57.021464\n",
    ")\n",
    "##########\n",
    "#Representation of Amino Acid\n",
    "##########\n",
    "struct AA \n",
    "    aa::Char\n",
    "    mass::Float32\n",
    "    #Constructor for amino acid. Restric inputs\n",
    "    #to valid amino acid symbols and assign correct mass\n",
    "    function AA(aa::Char)\n",
    "        m = try\n",
    "            AA_to_mass[aa]\n",
    "        catch\n",
    "            throw(ErrorException(\"The character $aa cannot be interpreted as an amino acid!\"))\n",
    "        end\n",
    "        return new(aa, m)\n",
    "    end\n",
    "end\n",
    "\n",
    "#Getter methods\n",
    "getMass(aa::AA) = aa.mass\n",
    "getAA(aa::AA) = aa.aa\n",
    "\n",
    "export AA\n",
    "##########\n",
    "#Modification. Simple representation of mass modifiction\n",
    "##########\n",
    "struct Mod\n",
    "    name::String\n",
    "    mass::Float32\n",
    "end\n",
    "\n",
    "function Mod(mod::String, mods_dict::Dict{String, Float32})\n",
    "    \"\"\"\n",
    "    Given a string, first parse by the regular expression  \n",
    "        Example: \"K[+8.014199]\" or \"C[Carb]\"\n",
    "        \n",
    "    In the first case, \"K[+8.014199]\", \"K[+8.014199]\" is the modification name\n",
    "        and 8.014199 is the modification mass. \n",
    "\n",
    "    In the second case, \"C[Carb]\" is the modification name\n",
    "        and \"Carb\" is a key to the dictionary \"mods_dict\".\n",
    "        mods_dict[\"Carb\"] returns the modification mass. \n",
    "\n",
    "    If the Mod string can't be parsed, returns an error. \n",
    "    \"\"\"\n",
    "    m = match(r\"^[A-Z]\\[(.*)\\]$\", mod)\n",
    "\n",
    "    try\n",
    "        if m == nothing\n",
    "            Mod(\n",
    "                mod,\n",
    "                0.0\n",
    "            )\n",
    "        elseif startswith(m[1], \"+\")\n",
    "            Mod(\n",
    "                mod,                    #\"K[+8.014199]\"\n",
    "                parse(Float32, m[1][2:end]) #8.014199\n",
    "                )\n",
    "        else \n",
    "            Mod(\n",
    "                mod,                #getAA(\"C[Carb]\")\n",
    "                mods_dict[m[1]]         #57.021464\n",
    "                )\n",
    "        end\n",
    "    catch\n",
    "        throw(ErrorException(\"$mod could not be parsed as given\"))\n",
    "    end \n",
    "end\n",
    "\n",
    "#Optionally parse mods without a mods_dict\n",
    "Mod(mod::String) = Mod(mod, Dict{String, Float32}())\n",
    "Mod(name::Char, mass::Float32) = Mod(string(name), mass)\n",
    "#Empty modification\n",
    "Mod() = Mod(\"\", 0.0)\n",
    "\n",
    "#Getter Functions\n",
    "getMass(mod::Mod) = mod.mass    \n",
    "getName(mod::Mod) = mod.name\n",
    "export Mod\n",
    "\n",
    "##########\n",
    "#Residue. Implementation of amino acid with custom mass modifications\n",
    "##########\n",
    "struct Residue\n",
    "    aa::AA\n",
    "    mod::Mod\n",
    "    mass::Float32\n",
    "end\n",
    "\n",
    "#Residue(AA('A'))\n",
    "function Residue(aa::AA)\n",
    "    Residue(aa, Mod(), getMass(aa))\n",
    "end\n",
    "\n",
    "#Residue('A')\n",
    "Residue(aa::Char) = Residue(AA(aa))\n",
    "\n",
    "Residue(aa::AA, mod::Mod) = Residue(aa::AA, mod, getMass(mod)+getMass(aa))\n",
    "\n",
    "Residue(residue::String, mods_dict::Dict{String, Float32}) = Residue(AA(residue[1]), Mod(residue, mods_dict))\n",
    "\n",
    "Residue(residue::String) = Residue(AA(residue[1]), Mod(residue))\n",
    "\n",
    "Residue(residue::String, mod_mass::Float32) = Residue(AA(residue[1]), Mod(residue, mod_mass))\n",
    "\n",
    "Residue(residue::Char, mod_mass::Float32) = Residue(AA(residue), Mod(residue, mod_mass))\n",
    "#    \"\"\"\n",
    "#    Residue('K', )\n",
    "#    \n",
    "#    \"\"\"\n",
    "#    Residue(\n",
    "#            AA(residue), \n",
    "#            Mod(join([residue,\"[+\", string(mod_mass),\"]\"]), mod_mass),\n",
    "#            mod_mass\n",
    "#            )\n",
    "#end\n",
    "#Getter methods\n",
    "getMass(residue::Residue) = residue.mass\n",
    "getMod(residue::Residue) = residue.mod\n",
    "getAA(residue::Residue) = residue.aa\n",
    "\n",
    "export Residue\n",
    "export getMass\n",
    "export getMod\n",
    "export getAA\n",
    "export default_mods\n",
    "\n",
    "##########\n",
    "#Frag\n",
    "##########\n",
    "struct Frag\n",
    "    charge::Int32\n",
    "    type::Char\n",
    "    mz::Float32\n",
    "    isotope::Int32\n",
    "    function Frag(residues::Array{Residue, 1}, type::Char, charge::Int32, isotope::Int32)\n",
    "        if type=='b'\n",
    "            new(charge, type, (sum(residue->getMass(residue), residues) + PROTON*charge + isotope*NEUTRON)/charge, isotope)\n",
    "        elseif type∈('y','p')\n",
    "            new(charge, type, (sum(residue->getMass(residue), residues) + PROTON*charge + H2O + isotope*NEUTRON)/charge, isotope)\n",
    "        #Could add functionality for a/x/c/z ions here\n",
    "        end\n",
    "    end\n",
    "end\n",
    "\n",
    "Frag(residues::Array{Residue, 1}, type::Char, charge::Int32) = Frag(residues, type, charge, Int32(0))\n",
    "\n",
    "getCharge(frag::Frag) = frag.charge\n",
    "getMZ(frag::Frag) = frag.mz\n",
    "getType(frag::Frag) = frag.type\n",
    "getIso(frag::Frag) = frag.isotope\n",
    "\n",
    "export Frag\n",
    "export getMZ\n",
    "export getCharge\n",
    "export getType\n",
    "export getIso\n"
   ]
  },
  {
   "cell_type": "code",
   "execution_count": 58,
   "id": "d5375d04-cbb0-42f9-94c6-a03987b9200e",
   "metadata": {},
   "outputs": [
    {
     "data": {
      "text/plain": [
       "3-element Vector{Residue}:\n",
       " Residue(AA('P', 97.05276f0), Mod(\"\", 0.0f0), 97.05276f0)\n",
       " Residue(AA('E', 129.04259f0), Mod(\"\", 0.0f0), 129.04259f0)\n",
       " Residue(AA('P', 97.05276f0), Mod(\"\", 0.0f0), 97.05276f0)"
      ]
     },
     "execution_count": 58,
     "metadata": {},
     "output_type": "execute_result"
    }
   ],
   "source": [
    "test = Array{Residue, 1}([Residue('P'), Residue('E'), Residue('P')])"
   ]
  },
  {
   "cell_type": "code",
   "execution_count": 44,
   "id": "6ef78032-9ea2-4651-aab0-34a6877aa7d6",
   "metadata": {},
   "outputs": [
    {
     "data": {
      "text/plain": [
       "323.1481f0"
      ]
     },
     "execution_count": 44,
     "metadata": {},
     "output_type": "execute_result"
    }
   ],
   "source": [
    "sum(v->getMass(v),test)"
   ]
  },
  {
   "cell_type": "code",
   "execution_count": null,
   "id": "d0fd5e4a-8886-4b3f-a070-dc5eac43c804",
   "metadata": {},
   "outputs": [],
   "source": [
    "sequence = \"TIDEK[+8.014199]\""
   ]
  },
  {
   "cell_type": "code",
   "execution_count": 4,
   "id": "77a97284-c70a-412c-b9d4-35fb6521c20e",
   "metadata": {},
   "outputs": [
    {
     "ename": "LoadError",
     "evalue": "MethodError: no method matching Frag(::Vector{Residue})\n\u001b[0mClosest candidates are:\n\u001b[0m  Frag(::Vector{Residue}, \u001b[91m::Char\u001b[39m, \u001b[91m::Int32\u001b[39m) at In[2]:182\n\u001b[0m  Frag(::Vector{Residue}, \u001b[91m::Char\u001b[39m, \u001b[91m::Int32\u001b[39m, \u001b[91m::Int32\u001b[39m) at In[2]:172",
     "output_type": "error",
     "traceback": [
      "MethodError: no method matching Frag(::Vector{Residue})\n\u001b[0mClosest candidates are:\n\u001b[0m  Frag(::Vector{Residue}, \u001b[91m::Char\u001b[39m, \u001b[91m::Int32\u001b[39m) at In[2]:182\n\u001b[0m  Frag(::Vector{Residue}, \u001b[91m::Char\u001b[39m, \u001b[91m::Int32\u001b[39m, \u001b[91m::Int32\u001b[39m) at In[2]:172",
      "",
      "Stacktrace:",
      " [1] top-level scope",
      "   @ In[4]:2"
     ]
    }
   ],
   "source": [
    "sequence = \"TIDEK[+8.014199]\"\n",
    "Frag(map(v -> Residue(sequence[v]), findall(r\"([A-Z]\\[(.*)\\]|[A-Z])\", sequence)))"
   ]
  },
  {
   "cell_type": "code",
   "execution_count": 23,
   "id": "76b50ffe-cd4c-44ce-a9d2-b6294a1fe7ae",
   "metadata": {},
   "outputs": [
    {
     "data": {
      "text/plain": [
       "5-element Vector{UnitRange{Int64}}:\n",
       " 1:1\n",
       " 2:2\n",
       " 3:3\n",
       " 4:4\n",
       " 5:16"
      ]
     },
     "execution_count": 23,
     "metadata": {},
     "output_type": "execute_result"
    }
   ],
   "source": [
    "test_str = \"TIDEK[+8.014199]\"\n",
    "a = findall(r\"([A-Z]\\[(.*)\\]|[A-Z])\", test_str)"
   ]
  },
  {
   "cell_type": "code",
   "execution_count": 60,
   "id": "a85d8adb-2628-4732-851d-bb22e0479c1a",
   "metadata": {},
   "outputs": [
    {
     "name": "stdout",
     "output_type": "stream",
     "text": [
      "12345678910"
     ]
    }
   ],
   "source": [
    "for i in 1:10\n",
    "    print(i)\n",
    "end"
   ]
  },
  {
   "cell_type": "code",
   "execution_count": 53,
   "id": "a63087ee-0a1b-4fc3-91a1-32f911d52a95",
   "metadata": {},
   "outputs": [
    {
     "data": {
      "text/plain": [
       "true"
      ]
     },
     "execution_count": 53,
     "metadata": {},
     "output_type": "execute_result"
    }
   ],
   "source": [
    "'y'∈(\"yp\")"
   ]
  },
  {
   "cell_type": "code",
   "execution_count": 51,
   "id": "34218adc-f100-40b3-9485-779c70219d46",
   "metadata": {},
   "outputs": [
    {
     "data": {
      "text/plain": [
       "400.68723f0"
      ]
     },
     "execution_count": 51,
     "metadata": {},
     "output_type": "execute_result"
    }
   ],
   "source": [
    "(AA_to_mass['P'] + AA_to_mass['E'] + AA_to_mass['P'] +\n",
    "AA_to_mass['T'] + AA_to_mass['I'] + AA_to_mass['D'] +\n",
    "AA_to_mass['E'] + proton*2 + H2O)/2"
   ]
  },
  {
   "cell_type": "code",
   "execution_count": 34,
   "id": "d90310f6-f283-49b2-892c-72f6a2bb56dd",
   "metadata": {},
   "outputs": [
    {
     "data": {
      "text/plain": [
       "3.2009765618568053e-5"
      ]
     },
     "execution_count": 34,
     "metadata": {},
     "output_type": "execute_result"
    }
   ],
   "source": [
    "324.155397 - (AA_to_mass['P'] + AA_to_mass['E'] + AA_to_mass['P'] + proton)"
   ]
  },
  {
   "cell_type": "code",
   "execution_count": 37,
   "id": "7f7e856d-95bb-44ea-87bf-98d6552770c5",
   "metadata": {},
   "outputs": [
    {
     "data": {
      "text/plain": [
       "18.010565f0"
      ]
     },
     "execution_count": 37,
     "metadata": {},
     "output_type": "execute_result"
    }
   ],
   "source": [
    "const H2O = Float32(18.010565)"
   ]
  },
  {
   "cell_type": "code",
   "execution_count": 41,
   "id": "ac009c01-3241-4857-9de5-60d2a05732d5",
   "metadata": {},
   "outputs": [
    {
     "data": {
      "text/plain": [
       "2.789062477859261e-6"
      ]
     },
     "execution_count": 41,
     "metadata": {},
     "output_type": "execute_result"
    }
   ],
   "source": [
    "477.219119 - (AA_to_mass['T'] + AA_to_mass['I'] + AA_to_mass['D'] +  AA_to_mass['E'] + H2O + proton)\n",
    "\n",
    "\n"
   ]
  },
  {
   "cell_type": "code",
   "execution_count": 46,
   "id": "307b8748-d1ad-4a79-b2ba-a1a65df18432",
   "metadata": {},
   "outputs": [
    {
     "data": {
      "text/plain": [
       "8.302734386234079e-6"
      ]
     },
     "execution_count": 46,
     "metadata": {},
     "output_type": "execute_result"
    }
   ],
   "source": [
    "239.113198 - (AA_to_mass['T'] + AA_to_mass['I'] + AA_to_mass['D'] +  AA_to_mass['E'] + H2O + proton + proton)/2\n"
   ]
  },
  {
   "cell_type": "code",
   "execution_count": 24,
   "id": "faff6aab-40e5-44cb-aad5-298463544ed8",
   "metadata": {},
   "outputs": [
    {
     "data": {
      "text/plain": [
       "5-element Vector{String}:\n",
       " \"T\"\n",
       " \"I\"\n",
       " \"D\"\n",
       " \"E\"\n",
       " \"K[+8.014199]\""
      ]
     },
     "execution_count": 24,
     "metadata": {},
     "output_type": "execute_result"
    }
   ],
   "source": [
    "[test_str[ind] for ind in a]"
   ]
  },
  {
   "cell_type": "code",
   "execution_count": null,
   "id": "49453d29-edd5-4d7f-9234-a86cf53fcb76",
   "metadata": {},
   "outputs": [],
   "source": [
    "Mod(\"K\", Float32(100.0))"
   ]
  },
  {
   "cell_type": "code",
   "execution_count": null,
   "id": "eecb5605-6792-409a-a660-ef989a8d285f",
   "metadata": {},
   "outputs": [],
   "source": [
    "Residue(\"K\", Float32(8.014199))"
   ]
  },
  {
   "cell_type": "code",
   "execution_count": 30,
   "id": "a9c71378-de2d-423f-a149-a8c82e886b4a",
   "metadata": {},
   "outputs": [
    {
     "data": {
      "text/plain": [
       "AA"
      ]
     },
     "execution_count": 30,
     "metadata": {},
     "output_type": "execute_result"
    }
   ],
   "source": [
    "typeof(AA(\"K\"[1]))"
   ]
  },
  {
   "cell_type": "code",
   "execution_count": 31,
   "id": "e3f0a3d7-80c6-4786-b992-5aa46fd08b64",
   "metadata": {},
   "outputs": [
    {
     "name": "stdout",
     "output_type": "stream",
     "text": [
      "Entered Mod\n"
     ]
    },
    {
     "data": {
      "text/plain": [
       "Residue(AA('K', 128.09496f0), Mod(\"K\", 0.0f0), 128.09496f0)"
      ]
     },
     "execution_count": 31,
     "metadata": {},
     "output_type": "execute_result"
    }
   ],
   "source": [
    "Residue(AA(\"K\"[1]), Mod(\"K\")) "
   ]
  },
  {
   "cell_type": "code",
   "execution_count": null,
   "id": "32e23035-e545-4160-828a-0e7564c2be6d",
   "metadata": {},
   "outputs": [],
   "source": []
  },
  {
   "cell_type": "code",
   "execution_count": 32,
   "id": "16e0dc74-f4ae-444a-b427-90495ff6fa42",
   "metadata": {},
   "outputs": [
    {
     "data": {
      "text/plain": [
       "Residue(AA('A', 71.03711f0), Mod(\"A[+10.0]\", 10.0f0), 10.0f0)"
      ]
     },
     "execution_count": 32,
     "metadata": {},
     "output_type": "execute_result"
    }
   ],
   "source": [
    "Residue('A', convert(Float32, 10.0))"
   ]
  },
  {
   "cell_type": "code",
   "execution_count": 13,
   "id": "ed7f2cdd-f472-4626-9051-044909b2081a",
   "metadata": {},
   "outputs": [
    {
     "data": {
      "text/plain": [
       "\"12\""
      ]
     },
     "execution_count": 13,
     "metadata": {},
     "output_type": "execute_result"
    }
   ],
   "source": [
    "join([1, 2])"
   ]
  },
  {
   "cell_type": "code",
   "execution_count": 14,
   "id": "96e5ed93-fec2-4ae9-b3e8-4e5453fe17fe",
   "metadata": {},
   "outputs": [
    {
     "name": "stdout",
     "output_type": "stream",
     "text": [
      "Entered Mod\n"
     ]
    },
    {
     "data": {
      "text/plain": [
       "Mod(\"K\", 0.0f0)"
      ]
     },
     "execution_count": 14,
     "metadata": {},
     "output_type": "execute_result"
    }
   ],
   "source": [
    "Mod(\"K\")"
   ]
  },
  {
   "cell_type": "code",
   "execution_count": 15,
   "id": "9ba4533f-c629-4c9b-8009-f2f1f75e867b",
   "metadata": {},
   "outputs": [
    {
     "data": {
      "text/plain": [
       "Residue(AA('K', 128.09496f0), Mod(\"\", 0.0f0), 128.09496f0)"
      ]
     },
     "execution_count": 15,
     "metadata": {},
     "output_type": "execute_result"
    }
   ],
   "source": [
    "Residue('K')"
   ]
  },
  {
   "cell_type": "code",
   "execution_count": 21,
   "id": "a20f3988-0779-4f28-a767-da68e0a15ba0",
   "metadata": {},
   "outputs": [
    {
     "name": "stdout",
     "output_type": "stream",
     "text": [
      "Entered Mod\n"
     ]
    },
    {
     "data": {
      "text/plain": [
       "\"L\""
      ]
     },
     "execution_count": 21,
     "metadata": {},
     "output_type": "execute_result"
    }
   ],
   "source": [
    "getName(Mod(\"L\"))"
   ]
  },
  {
   "cell_type": "code",
   "execution_count": 22,
   "id": "e5aedfce-1644-4437-9b96-8ac52a2da360",
   "metadata": {},
   "outputs": [
    {
     "name": "stdout",
     "output_type": "stream",
     "text": [
      "Entered Mod\n"
     ]
    },
    {
     "data": {
      "text/plain": [
       "0.0f0"
      ]
     },
     "execution_count": 22,
     "metadata": {},
     "output_type": "execute_result"
    }
   ],
   "source": [
    "getMass(Mod(\"L\"))"
   ]
  },
  {
   "cell_type": "code",
   "execution_count": 20,
   "id": "182e60f2-4907-49a5-8be8-67ac3eb1e1f7",
   "metadata": {},
   "outputs": [
    {
     "name": "stdout",
     "output_type": "stream",
     "text": [
      "Entered Mod\n"
     ]
    },
    {
     "ename": "LoadError",
     "evalue": "StackOverflowError:",
     "output_type": "error",
     "traceback": [
      "StackOverflowError:",
      "",
      "Stacktrace:",
      " [1] Residue(aa::AA, mod_string::String, mod_mass::Float32) (repeats 79984 times)",
      "   @ Main ./In[12]:115"
     ]
    }
   ],
   "source": [
    "Residue(AA(\"L\"[1]), Mod(\"L\"))"
   ]
  },
  {
   "cell_type": "code",
   "execution_count": 17,
   "id": "cba0a6cb-cd2d-401d-a3a3-cedbcc47bbf3",
   "metadata": {},
   "outputs": [
    {
     "data": {
      "text/plain": [
       "AA('L', 113.08406f0)"
      ]
     },
     "execution_count": 17,
     "metadata": {},
     "output_type": "execute_result"
    }
   ],
   "source": [
    "AA(\"L\"[1])"
   ]
  },
  {
   "cell_type": "code",
   "execution_count": 16,
   "id": "7654cae8-d7f9-4892-af6a-e26a05fd2bd0",
   "metadata": {},
   "outputs": [
    {
     "name": "stdout",
     "output_type": "stream",
     "text": [
      "Entered Mod\n"
     ]
    },
    {
     "ename": "LoadError",
     "evalue": "StackOverflowError:",
     "output_type": "error",
     "traceback": [
      "StackOverflowError:",
      "",
      "Stacktrace:",
      " [1] Residue(aa::AA, mod_string::String, mod_mass::Float32) (repeats 79984 times)",
      "   @ Main ./In[12]:115"
     ]
    }
   ],
   "source": [
    "Residue(\"L\")"
   ]
  },
  {
   "cell_type": "code",
   "execution_count": 3,
   "id": "8a35d9c2-4452-43a8-821d-ec3a356ffa00",
   "metadata": {},
   "outputs": [
    {
     "ename": "LoadError",
     "evalue": "StackOverflowError:",
     "output_type": "error",
     "traceback": [
      "StackOverflowError:",
      "",
      "Stacktrace:",
      " [1] Residue(aa::AA, mod_string::String, mod_mass::Float32) (repeats 79984 times)",
      "   @ Main ./In[1]:115"
     ]
    }
   ],
   "source": [
    "Residue('K', convert(Float32, 10.0))"
   ]
  },
  {
   "cell_type": "code",
   "execution_count": null,
   "id": "3063a7f8-13d4-4253-a2af-7ef3f8be5670",
   "metadata": {},
   "outputs": [],
   "source": [
    "#Residue('A')\n",
    "Residue(aa::Char) = Residue(AA(aa))\n",
    "\n",
    "#Residue('C', 'Carb', 57.021464)\n",
    "Residue(aa::AA, mod_string::String, mod_mass::Float32) = Residue(aa, getMass(aa)+mod_mass, mod_string)\n",
    "\n",
    "Residue(aa::AA, mod::Mod) = Residue(aa, getName(mod), getMass(mod))\n",
    "\n",
    "Residue(residue::String, mods_dict::Dict{String, Float32}) = Residue(AA(residue[1]), Mod(residue, mods_dict))\n",
    "\n",
    "Residue(residue::String) = Residue(residue::String, default_mods)\n",
    "\n",
    "function Residue(residue::String, mod_mass::Float32)\n",
    "    Residue(AA(residue[1]), \n",
    "            join[residue[1],\"[+\", string(mod_mass),\"]\"],\n",
    "            mod_mass)\n",
    "end"
   ]
  },
  {
   "cell_type": "code",
   "execution_count": null,
   "id": "331b042f-5aa5-4222-adb4-bcc13bc76cb5",
   "metadata": {},
   "outputs": [],
   "source": [
    "function Residue(residue::String, mods_dict::Dict{String, Float32})\n",
    "    Residue(AA(residue[1]), Mod(residue, mods_dict))\n",
    "end"
   ]
  },
  {
   "cell_type": "code",
   "execution_count": null,
   "id": "da41b190-a707-48b8-af7d-bc3ea94bd8b0",
   "metadata": {},
   "outputs": [],
   "source": [
    "Residue(\"K\", convert(Float32, 8.0))"
   ]
  },
  {
   "cell_type": "code",
   "execution_count": null,
   "id": "4fe5dc36-8c23-40eb-9593-e8d92c3f084d",
   "metadata": {},
   "outputs": [],
   "source": [
    "float(8.0)"
   ]
  },
  {
   "cell_type": "code",
   "execution_count": null,
   "id": "78ff2ced-d840-4ec7-a274-c1a35fd0fd0c",
   "metadata": {},
   "outputs": [],
   "source": [
    "#export(AA)"
   ]
  },
  {
   "cell_type": "code",
   "execution_count": null,
   "id": "1c9685e8-67e6-4a54-b90a-2d8d5c9f0a0a",
   "metadata": {},
   "outputs": [],
   "source": [
    "const default_mods = \n",
    "Dict{String, Float32}(\n",
    "    \"Carb\" => 57.021464\n",
    ")"
   ]
  },
  {
   "cell_type": "code",
   "execution_count": null,
   "id": "267f21fc-1351-48f7-97fc-030f5f121038",
   "metadata": {},
   "outputs": [],
   "source": [
    "struct AA \n",
    "    aa::Char\n",
    "    mass::Float32\n",
    "    #Constructor for amino acid. Restric inputs\n",
    "    #to valid amino acid symbols and assign correct mass\n",
    "    function AA(aa::Char)\n",
    "        m = try\n",
    "            AA_to_mass[aa]\n",
    "        catch\n",
    "            throw(ErrorException(\"The character $aa cannot be interpreted as an amino acid!\"))\n",
    "        end\n",
    "        return new(aa, m)\n",
    "    end\n",
    "end\n",
    "\n",
    "#Getter methods\n",
    "getMass(aa::AA) = aa.mass\n",
    "getAA(aa::AA) = aa.aa"
   ]
  },
  {
   "cell_type": "code",
   "execution_count": null,
   "id": "730f0da0-509f-4b84-ba61-b75238c00189",
   "metadata": {},
   "outputs": [],
   "source": [
    "AA('Z')"
   ]
  },
  {
   "cell_type": "code",
   "execution_count": null,
   "id": "143eddac-6292-44af-bef8-b2d772de1a98",
   "metadata": {},
   "outputs": [],
   "source": [
    "AA('A')"
   ]
  },
  {
   "cell_type": "code",
   "execution_count": null,
   "id": "6d24f088-f4da-4dd2-ad87-a95cc5d7cb81",
   "metadata": {},
   "outputs": [],
   "source": [
    "struct Mod\n",
    "    name::String\n",
    "    mass::Float32\n",
    "\n",
    "    function Mod(mod::String, mods_dict::Dict{String, Float32})\n",
    "        m = match(r\"^[A-Z]\\[(.*)\\]$\", mod)\n",
    "        println(\"Entered Mod\")\n",
    "        try\n",
    "            if m == nothing\n",
    "                new(\n",
    "                    mod,\n",
    "                    0.0\n",
    "                )\n",
    "            elseif startswith(m[1], \"+\")\n",
    "                new(\n",
    "                    mod,                    #\"K[+8.014199]\"\n",
    "                    parse(Float32, m[1][2:end]) #8.014199\n",
    "                    )\n",
    "            else \n",
    "                new(\n",
    "                    mod,                #getAA(\"C[Carb]\")\n",
    "                    mods_dict[m[1]]         #57.021464\n",
    "                    )\n",
    "            end\n",
    "        catch\n",
    "            throw(ErrorException(\"$m could not be parsed as given\"))\n",
    "        end \n",
    "    end\n",
    "end\n",
    "\n",
    "getMass(mod::Mod) = mod.mass\n",
    "getName(mod::Mod) = mod.name\n",
    "Mod(mod::String) = Mod(mod, default_mods)\n",
    "Mod() = Mod(\"\", Dict{String, Float32}())"
   ]
  },
  {
   "cell_type": "code",
   "execution_count": null,
   "id": "a601199d-9880-448c-8be0-7eda005f80f5",
   "metadata": {},
   "outputs": [],
   "source": [
    "Mod(\"K\")"
   ]
  },
  {
   "cell_type": "code",
   "execution_count": null,
   "id": "62bd21cc-6192-464f-905d-823885a0ba36",
   "metadata": {},
   "outputs": [],
   "source": [
    "Mod()"
   ]
  },
  {
   "cell_type": "code",
   "execution_count": null,
   "id": "bf80f2d4-9c62-419f-91b8-755c51c47b4e",
   "metadata": {},
   "outputs": [],
   "source": []
  },
  {
   "cell_type": "code",
   "execution_count": null,
   "id": "b1520c73-a589-4d7c-b7d5-bb773c912938",
   "metadata": {},
   "outputs": [],
   "source": [
    "join([\"A\",\"_\",string(8.0)])"
   ]
  },
  {
   "cell_type": "code",
   "execution_count": null,
   "id": "0ab4b833-54c4-47cd-b65f-586deb555e11",
   "metadata": {},
   "outputs": [],
   "source": [
    "Mod(\"C\", default_mods)"
   ]
  },
  {
   "cell_type": "code",
   "execution_count": null,
   "id": "a29710e9-1a47-443e-920e-e78a69c35269",
   "metadata": {},
   "outputs": [],
   "source": [
    "struct Residue\n",
    "    amino_acid::AA\n",
    "    mass::Float32\n",
    "    mod::String\n",
    "end\n",
    "\n",
    "function Residue(aa::Char)\n",
    "    AA_ = AA(aa)\n",
    "    Residue(AA_, getMass(AA_), string(aa))\n",
    "end"
   ]
  },
  {
   "cell_type": "code",
   "execution_count": null,
   "id": "1e6bad28-c233-4b39-9944-7594d0a2cfab",
   "metadata": {},
   "outputs": [],
   "source": [
    "regext =  r\"^[A-Z]\\[(.*)\\]$\""
   ]
  },
  {
   "cell_type": "code",
   "execution_count": null,
   "id": "d4c7e782-0519-4e01-b6e5-b6a2e7682391",
   "metadata": {},
   "outputs": [],
   "source": [
    "m = match(regext, \"L\")\n",
    "mk = match(regext, \"K[+8.014199]\")\n",
    "mc = match(regext, \"C[carb]\")\n",
    "mk = match(regext, \"K[+8.014199]\")"
   ]
  },
  {
   "cell_type": "code",
   "execution_count": null,
   "id": "e8ecd004-2c18-4d96-96e5-5c55ce44faee",
   "metadata": {},
   "outputs": [],
   "source": [
    "m==nothing"
   ]
  },
  {
   "cell_type": "code",
   "execution_count": null,
   "id": "a87dd953-36df-43da-9235-78cdbdde1423",
   "metadata": {},
   "outputs": [],
   "source": [
    "mk"
   ]
  },
  {
   "cell_type": "code",
   "execution_count": null,
   "id": "6bc589d6-85ac-4f3a-b4c7-ee2e9635aaf5",
   "metadata": {},
   "outputs": [],
   "source": [
    "parse(Float32, mk[1][2:end])"
   ]
  },
  {
   "cell_type": "code",
   "execution_count": null,
   "id": "56a8f172-c5e3-499c-a282-d0e3bf32fdbc",
   "metadata": {},
   "outputs": [],
   "source": [
    "startswith(mc[1], \"+\")"
   ]
  },
  {
   "cell_type": "code",
   "execution_count": null,
   "id": "da8f1c81-df60-426d-8bba-319d3deea5ab",
   "metadata": {},
   "outputs": [],
   "source": [
    "startswith(mk[1], \"+\")"
   ]
  },
  {
   "cell_type": "code",
   "execution_count": null,
   "id": "f9563196-c5dc-462f-b267-5e3d365c7e24",
   "metadata": {},
   "outputs": [],
   "source": [
    "join([\"[\",\"ten\", \"t\"])"
   ]
  },
  {
   "cell_type": "code",
   "execution_count": null,
   "id": "995b3843-5ddb-48e7-8b35-6a84d519cf19",
   "metadata": {},
   "outputs": [],
   "source": [
    "Residue('A')"
   ]
  },
  {
   "cell_type": "code",
   "execution_count": null,
   "id": "d49a3388-d95f-4f29-9794-6fbbfe63c5f1",
   "metadata": {},
   "outputs": [],
   "source": [
    "test = AA('A')"
   ]
  },
  {
   "cell_type": "code",
   "execution_count": null,
   "id": "d82f4279-227d-4f7c-a7f0-7d29282f67d6",
   "metadata": {},
   "outputs": [],
   "source": [
    "getMass(test)"
   ]
  },
  {
   "cell_type": "code",
   "execution_count": null,
   "id": "ea0c5aae-fba9-48bb-9899-c4e6949d25de",
   "metadata": {},
   "outputs": [],
   "source": [
    "test = AA('A')"
   ]
  },
  {
   "cell_type": "code",
   "execution_count": null,
   "id": "da14f8f1-ec24-42ad-8927-6c3ca6057862",
   "metadata": {},
   "outputs": [],
   "source": [
    "test.mass"
   ]
  },
  {
   "cell_type": "code",
   "execution_count": null,
   "id": "c62c9a98-cae9-4a8d-8287-f797a3a00340",
   "metadata": {},
   "outputs": [],
   "source": []
  }
 ],
 "metadata": {
  "kernelspec": {
   "display_name": "Julia 1.8.5",
   "language": "julia",
   "name": "julia-1.8"
  },
  "language_info": {
   "file_extension": ".jl",
   "mimetype": "application/julia",
   "name": "julia",
   "version": "1.8.5"
  }
 },
 "nbformat": 4,
 "nbformat_minor": 5
}
