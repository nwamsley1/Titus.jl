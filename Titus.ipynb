{
 "cells": [
  {
   "cell_type": "markdown",
   "id": "ea7d2c01-2d23-4239-bf1f-24a5f4c5e80e",
   "metadata": {},
   "source": [
    "### Survey Run Analyses\n",
    "```\n",
    "; julia ./src/Routines/PRM/IS-PRM_SURVEY/routine.jl ./data/example_config/IS-PRM-SURVEY-TEST.json ./data/parquet/ ./data/NRF2_SIL.txt\n",
    "```\n",
    "### ARGS\n",
    "|Name                |Default| Short        |Description                    |\n",
    " |--------------------|-------|-------------|--------------------|\n",
    " |params_json||mandatory|Path to a .json file with the parameters (see Configuration)\n",
    " |data_dir||mandatory|\"Path to a folder with .arrow MS data tables\"\n",
    " |precursor_list||mandatory|\"Path to a tab delimited table of precursors\"\n",
    " |--make_plots|true|-p|\"Whether to make plots. Defaults to `true`\"\n",
    " |--print_params|false|-s|\"Whether to print the parameters from the json. Defaults to `false`\"\n",
    " \n",
    " ### CONFIG\n",
    " ```\n",
    "{\n",
    "    \"right_precursor_tolerance\": 0.001,\n",
    "    \"left_precursor_tolerance\": 0.001,\n",
    "    \"precursor_rt_tolerance\": 0.3,\n",
    "    \"b_ladder_start\": 3,\n",
    "    \"y_ladder_start\": 3,\n",
    "    \"precursor_charges\": [2, 3, 4],\n",
    "    \"precursor_isotopes\": [0],\n",
    "    \"transition_charges\": [1, 2],\n",
    "    \"transition_isotopes\": [0],\n",
    "    \"fragment_match_ppm\": 40,\n",
    "    \"minimum_fragment_count\": 5,\n",
    "    \"fragments_to_select\": 5,\n",
    "    \"precursor_rt_window\": 0.3,\n",
    "    \"max_variable_mods\": 2,\n",
    "    \"fixed_mods\":[\n",
    "                     [\"C\",\"C[Carb]\"],\n",
    "                     [\"K$\",\"K[Hlys]\"],\n",
    "                     [\"R$\",\"R[Harg]\"]\n",
    "    ],\n",
    "    \"variable_mods\":\n",
    "    [],\n",
    "    \"modification_masses\":\n",
    "        {\n",
    "        \"Carb\":57.021464,\n",
    "        \"Harg\":10.008269,\n",
    "        \"Hlys\":8.014199\n",
    "        },\n",
    "    \"ms_file_conditions\":\n",
    "        {\n",
    "            \"_35NCE_\":\"35NCE\",\n",
    "            \"_40NCE_\":\"40NCE\",\n",
    "            \"GAPDH\":\"GAPDH\"\n",
    "        }\n",
    "}\n",
    "```\n",
    " "
   ]
  },
  {
   "cell_type": "code",
   "execution_count": 10,
   "id": "402c1c91-5919-4761-97fb-1016f13b021f",
   "metadata": {
    "tags": []
   },
   "outputs": [
    {
     "name": "stdout",
     "output_type": "stream",
     "text": [
      "Processing: 2 files\n",
      "Time to build precursor table 0.001320423\n",
      " Scored 662 precursors\n",
      " 16.554006 seconds (69.86 M allocations: 3.991 GiB, 4.53% gc time, 89.78% compilation time: 1% of which was recompilation)\n",
      " 64.459390 seconds (102.71 M allocations: 5.557 GiB, 1.43% gc time, 12.69% compilation time: 39% of which was recompilation)\n"
     ]
    }
   ],
   "source": [
    "; julia ./src/Routines/PRM/IS-PRM-SURVEY/routine.jl ./data/example_config/IS-PRM-SURVEY-TEST.json /Users/n.t.wamsley/RIS_Temp/EWZ_KINOME/survey_runs /Users/n.t.wamsley/RIS_Temp/EWZ_KINOME/KINOME_MAR23.txt"
   ]
  },
  {
   "cell_type": "markdown",
   "id": "21ed5d32-08df-4e4b-8290-2ff8b2036238",
   "metadata": {},
   "source": [
    "### Survey Run Analyses\n",
    "```\n",
    "; julia ./src/Routines/PRM/IS-PRM_SURVEY/routine.jl ./data/test.json ./data/parquet/ ./data/NRF2_SIL.txt\n",
    "```\n",
    "|Name                |Default| Short        |Description                    |\n",
    " |--------------------|-------|-------------|--------------------|\n",
    " |params_json||mandatory|Path to a .json file with the parameters (see Configuration)\n",
    " |data_dir||mandatory|\"Path to a folder with .arrow MS data tables\"\n",
    " |transition_list||mandatory|\"Path to a tab delimited table of transitions\"\n",
    " |--make_plots|true|-p|\"Whether to make plots. Defaults to `true`\"\n",
    " |--print_params|false|-s|\"Whether to print the parameters from the json. Defaults to `false`\""
   ]
  },
  {
   "cell_type": "code",
   "execution_count": 12,
   "id": "89e6e44b-3798-400f-b5c1-704d25cd27ff",
   "metadata": {
    "tags": []
   },
   "outputs": [],
   "source": [
    "#; julia --threads 24 ./src/Routines/PRM/IS-PRM/routine.jl ./data/example_config/IS-PRM-TEST.json /Users/n.t.wamsley/RIS_Temp/EWZ_KINOME/parquet_out /Users/n.t.wamsley/RIS_Temp/EWZ_KINOME/survey_runs/transition_list.csv"
   ]
  },
  {
   "cell_type": "code",
   "execution_count": 7,
   "id": "9e21f7b5-a9da-4f2a-b389-c3e6295821bf",
   "metadata": {},
   "outputs": [
    {
     "name": "stdout",
     "output_type": "stream",
     "text": [
      "Importing Libraries...\n"
     ]
    },
    {
     "name": "stderr",
     "output_type": "stream",
     "text": [
      "ERROR: LoadError: ArgumentError: Package LsqFit not found in current path.\n",
      "- Run `import Pkg; Pkg.add(\"LsqFit\")` to install the LsqFit package.\n",
      "Stacktrace:\n",
      " [1] macro expansion\n",
      "   @ ./loading.jl:1163 [inlined]\n",
      " [2] macro expansion\n",
      "   @ ./lock.jl:223 [inlined]\n",
      " [3] require(into::Module, mod::Symbol)\n",
      "   @ Base ./loading.jl:1144\n",
      "in expression starting at /Users/n.t.wamsley/Projects/Titus/src/Routines/LibrarySearch/routine.jl:13\n"
     ]
    }
   ],
   "source": [
    ";julia --threads 9 ./src/Routines/LibrarySearch/routine.jl ./data/example_config/LibrarySearch_indy4b3_scorey2b1_ally2b1.json /Users/n.t.wamsley/TEST_DATA/mzXML/ /Users/n.t.wamsley/RIS_temp/BUILD_PROSIT_LIBS/nOf3_indy4b3_ally2b1 -s true -e LibrarySearch_indy4b3_scorey2b1_ally2b1"
   ]
  },
  {
   "cell_type": "code",
   "execution_count": 8,
   "id": "0655a9d7-772d-42fd-b6df-c07bcfff7aa5",
   "metadata": {
    "tags": []
   },
   "outputs": [
    {
     "name": "stdout",
     "output_type": "stream",
     "text": [
      "Importing Libraries...\n"
     ]
    },
    {
     "name": "stderr",
     "output_type": "stream",
     "text": [
      "ERROR: LoadError: ArgumentError: Package LsqFit not found in current path.\n",
      "- Run `import Pkg; Pkg.add(\"LsqFit\")` to install the LsqFit package.\n",
      "Stacktrace:\n",
      " [1] macro expansion\n",
      "   @ ./loading.jl:1163 [inlined]\n",
      " [2] macro expansion\n",
      "   @ ./lock.jl:223 [inlined]\n",
      " [3] require(into::Module, mod::Symbol)\n",
      "   @ Base ./loading.jl:1144\n",
      "in expression starting at /Users/n.t.wamsley/Projects/Titus/src/Routines/LibrarySearch/routine.jl:13\n"
     ]
    }
   ],
   "source": [
    ";julia --threads 9 ./src/Routines/LibrarySearch/routine.jl ./data/example_config/LibrarySearch_indy4b3_scorey3b2_ally2b1.json /Users/n.t.wamsley/TEST_DATA/mzXML/ /Users/n.t.wamsley/RIS_temp/BUILD_PROSIT_LIBS/nOf3_indy4b3_ally2b1 -s true -e LibrarySearch_indy4b3_scorey3b2_ally2b1"
   ]
  },
  {
   "cell_type": "code",
   "execution_count": 9,
   "id": "63f57073-c716-46fb-b42a-0f9fe4aa556a",
   "metadata": {
    "tags": []
   },
   "outputs": [
    {
     "name": "stdout",
     "output_type": "stream",
     "text": [
      "Importing Libraries...\n"
     ]
    },
    {
     "name": "stderr",
     "output_type": "stream",
     "text": [
      "ERROR: LoadError: \n",
      "signal (2): Interrupt: 2\n",
      "in expression starting at none:0\n",
      "__psynch_cvwait at /usr/lib/system/libsystem_kernel.dylib (unknown line)\n",
      "_pthread_cond_wait at /usr/lib/system/libsystem_pthread.dylib (unknown line)\n",
      "uv_cond_wait at /Applications/Julia-1.8.app/Contents/Resources/julia/lib/julia/libjulia-internal.1.8.dylib (unknown line)\n",
      "ijl_task_get_next at /Applications/Julia-1.8.app/Contents/Resources/julia/lib/julia/libjulia-internal.1.8.dylib (unknown line)\n",
      "poptask at ./task.jl:921\n",
      "wait at ./task.jl:930\n",
      "task_done_hook at ./task.jl:634\n",
      "jfptr_task_done_hook_49868.clone_1 at /Applications/Julia-1.8.app/Contents/Resources/julia/lib/julia/sys.dylib (unknown line)\n",
      "ijl_apply_generic at /Applications/Julia-1.8.app/Contents/Resources/julia/lib/julia/libjulia-internal.1.8.dylib (unknown line)\n",
      "jl_finish_task at /Applications/Julia-1.8.app/Contents/Resources/julia/lib/julia/libjulia-internal.1.8.dylib (unknown line)\n",
      "jl_threadfun at /Applications/Julia-1.8.app/Contents/Resources/julia/lib/julia/libjulia-internal.1.8.dylib (unknown line)\n",
      "_pthread_start at /usr/lib/system/libsystem_pthread.dylib (unknown line)\n",
      "unknown function (ip: 0x0)\n",
      "__psynch_cvwait at /usr/lib/system/libsystem_kernel.dylib (unknown line)\n",
      "_pthread_cond_wait at /usr/lib/system/libsystem_pthread.dylib (unknown line)\n",
      "uv_cond_wait at /Applications/Julia-1.8.app/Contents/Resources/julia/lib/julia/libjulia-internal.1.8.dylib (unknown line)\n",
      "ijl_task_get_next at /Applications/Julia-1.8.app/Contents/Resources/julia/lib/julia/libjulia-internal.1.8.dylib (unknown line)\n",
      "poptask at ./task.jl:921\n",
      "wait at ./task.jl:930\n",
      "task_done_hook at ./task.jl:634\n",
      "jfptr_task_done_hook_49868.clone_1 at /Applications/Julia-1.8.app/Contents/Resources/julia/lib/julia/sys.dylib (unknown line)\n",
      "ijl_apply_generic at /Applications/Julia-1.8.app/Contents/Resources/julia/lib/julia/libjulia-internal.1.8.dylib (unknown line)\n",
      "jl_finish_task at /Applications/Julia-1.8.app/Contents/Resources/julia/lib/julia/libjulia-internal.1.8.dylib (unknown line)\n",
      "jl_threadfun at /Applications/Julia-1.8.app/Contents/Resources/julia/lib/julia/libjulia-internal.1.8.dylib (unknown line)\n",
      "_pthread_start at /usr/lib/system/libsystem_pthread.dylib (unknown line)\n",
      "unknown function (ip: 0x0)\n",
      "__psynch_cvwait at /usr/lib/system/libsystem_kernel.dylib (unknown line)\n",
      "_pthread_cond_wait at /usr/lib/system/libsystem_pthread.dylib (unknown line)\n",
      "uv_cond_wait at /Applications/Julia-1.8.app/Contents/Resources/julia/lib/julia/libjulia-internal.1.8.dylib (unknown line)\n",
      "ijl_task_get_next at /Applications/Julia-1.8.app/Contents/Resources/julia/lib/julia/libjulia-internal.1.8.dylib (unknown line)\n",
      "poptask at ./task.jl:921\n",
      "wait at ./task.jl:930\n",
      "task_done_hook at ./task.jl:634\n",
      "jfptr_task_done_hook_49868.clone_1 at /Applications/Julia-1.8.app/Contents/Resources/julia/lib/julia/sys.dylib (unknown line)\n",
      "ijl_apply_generic at /Applications/Julia-1.8.app/Contents/Resources/julia/lib/julia/libjulia-internal.1.8.dylib (unknown line)\n",
      "jl_finish_task at /Applications/Julia-1.8.app/Contents/Resources/julia/lib/julia/libjulia-internal.1.8.dylib (unknown line)\n",
      "jl_threadfun at /Applications/Julia-1.8.app/Contents/Resources/julia/lib/julia/libjulia-internal.1.8.dylib (unknown line)\n",
      "_pthread_start at /usr/lib/system/libsystem_pthread.dylib (unknown line)\n",
      "unknown function (ip: 0x0)\n",
      "__psynch_cvwait at /usr/lib/system/libsystem_kernel.dylib (unknown line)\n",
      "_pthread_cond_wait at /usr/lib/system/libsystem_pthread.dylib (unknown line)\n",
      "uv_cond_wait at /Applications/Julia-1.8.app/Contents/Resources/julia/lib/julia/libjulia-internal.1.8.dylib (unknown line)\n",
      "ijl_task_get_next at /Applications/Julia-1.8.app/Contents/Resources/julia/lib/julia/libjulia-internal.1.8.dylib (unknown line)\n",
      "poptask at ./task.jl:921\n",
      "wait at ./task.jl:930\n",
      "task_done_hook at ./task.jl:634\n",
      "jfptr_task_done_hook_49868.clone_1 at /Applications/Julia-1.8.app/Contents/Resources/julia/lib/julia/sys.dylib (unknown line)\n",
      "ijl_apply_generic at /Applications/Julia-1.8.app/Contents/Resources/julia/lib/julia/libjulia-internal.1.8.dylib (unknown line)\n",
      "jl_finish_task at /Applications/Julia-1.8.app/Contents/Resources/julia/lib/julia/libjulia-internal.1.8.dylib (unknown line)\n",
      "jl_threadfun at /Applications/Julia-1.8.app/Contents/Resources/julia/lib/julia/libjulia-internal.1.8.dylib (unknown line)\n",
      "_pthread_start at /usr/lib/system/libsystem_pthread.dylib (unknown line)\n",
      "unknown function (ip: 0x0)\n",
      "__psynch_cvwait at /usr/lib/system/libsystem_kernel.dylib (unknown line)\n",
      "_pthread_cond_wait at /usr/lib/system/libsystem_pthread.dylib (unknown line)\n",
      "uv_cond_wait at /Applications/Julia-1.8.app/Contents/Resources/julia/lib/julia/libjulia-internal.1.8.dylib (unknown line)\n",
      "ijl_task_get_next at /Applications/Julia-1.8.app/Contents/Resources/julia/lib/julia/libjulia-internal.1.8.dylib (unknown line)\n",
      "poptask at ./task.jl:921\n",
      "wait at ./task.jl:930\n",
      "task_done_hook at ./task.jl:634\n",
      "jfptr_task_done_hook_49868.clone_1 at /Applications/Julia-1.8.app/Contents/Resources/julia/lib/julia/sys.dylib (unknown line)\n",
      "ijl_apply_generic at /Applications/Julia-1.8.app/Contents/Resources/julia/lib/julia/libjulia-internal.1.8.dylib (unknown line)\n",
      "jl_finish_task at /Applications/Julia-1.8.app/Contents/Resources/julia/lib/julia/libjulia-internal.1.8.dylib (unknown line)\n",
      "jl_threadfun at /Applications/Julia-1.8.app/Contents/Resources/julia/lib/julia/libjulia-internal.1.8.dylib (unknown line)\n",
      "_pthread_start at /usr/lib/system/libsystem_pthread.dylib (unknown line)\n",
      "unknown function (ip: 0x0)\n",
      "__psynch_cvwait at /usr/lib/system/libsystem_kernel.dylib (unknown line)\n",
      "_pthread_cond_wait at /usr/lib/system/libsystem_pthread.dylib (unknown line)\n",
      "uv_cond_wait at /Applications/Julia-1.8.app/Contents/Resources/julia/lib/julia/libjulia-internal.1.8.dylib (unknown line)\n",
      "ijl_task_get_next at /Applications/Julia-1.8.app/Contents/Resources/julia/lib/julia/libjulia-internal.1.8.dylib (unknown line)\n",
      "poptask at ./task.jl:921\n",
      "wait at ./task.jl:930\n",
      "task_done_hook at ./task.jl:634\n",
      "jfptr_task_done_hook_49868.clone_1 at /Applications/Julia-1.8.app/Contents/Resources/julia/lib/julia/sys.dylib (unknown line)\n",
      "ijl_apply_generic at /Applications/Julia-1.8.app/Contents/Resources/julia/lib/julia/libjulia-internal.1.8.dylib (unknown line)\n",
      "jl_finish_task at /Applications/Julia-1.8.app/Contents/Resources/julia/lib/julia/libjulia-internal.1.8.dylib (unknown line)\n",
      "jl_threadfun at /Applications/Julia-1.8.app/Contents/Resources/julia/lib/julia/libjulia-internal.1.8.dylib (unknown line)\n",
      "_pthread_start at /usr/lib/system/libsystem_pthread.dylib (unknown line)\n",
      "unknown function (ip: 0x0)\n",
      "__psynch_cvwait at /usr/lib/system/libsystem_kernel.dylib (unknown line)\n",
      "_pthread_cond_wait at /usr/lib/system/libsystem_pthread.dylib (unknown line)\n",
      "uv_cond_wait at /Applications/Julia-1.8.app/Contents/Resources/julia/lib/julia/libjulia-internal.1.8.dylib (unknown line)\n",
      "ijl_task_get_next at /Applications/Julia-1.8.app/Contents/Resources/julia/lib/julia/libjulia-internal.1.8.dylib (unknown line)\n",
      "poptask at ./task.jl:921\n",
      "wait at ./task.jl:930\n",
      "task_done_hook at ./task.jl:634\n",
      "jfptr_task_done_hook_49868.clone_1 at /Applications/Julia-1.8.app/Contents/Resources/julia/lib/julia/sys.dylib (unknown line)\n",
      "ijl_apply_generic at /Applications/Julia-1.8.app/Contents/Resources/julia/lib/julia/libjulia-internal.1.8.dylib (unknown line)\n",
      "jl_finish_task at /Applications/Julia-1.8.app/Contents/Resources/julia/lib/julia/libjulia-internal.1.8.dylib (unknown line)\n",
      "jl_threadfun at /Applications/Julia-1.8.app/Contents/Resources/julia/lib/julia/libjulia-internal.1.8.dylib (unknown line)\n",
      "_pthread_start at /usr/lib/system/libsystem_pthread.dylib (unknown line)\n",
      "unknown function (ip: 0x0)\n",
      "__psynch_cvwait at /usr/lib/system/libsystem_kernel.dylib (unknown line)\n",
      "_pthread_cond_wait at /usr/lib/system/libsystem_pthread.dylib (unknown line)\n",
      "uv_cond_wait at /Applications/Julia-1.8.app/Contents/Resources/julia/lib/julia/libjulia-internal.1.8.dylib (unknown line)\n",
      "ijl_task_get_next at /Applications/Julia-1.8.app/Contents/Resources/julia/lib/julia/libjulia-internal.1.8.dylib (unknown line)\n",
      "poptask at ./task.jl:921\n",
      "wait at ./task.jl:930\n",
      "wait at ./condition.jl:124\n",
      "_trywait at ./asyncevent.jl:138\n",
      "wait at ./asyncevent.jl:155 [inlined]\n",
      "profile_printing_listener at /Users/julia/.julia/scratchspaces/a66863c6-20e8-4ff4-8a62-49f30b1f605e/agent-cache/default-macmini-x64-5.0/build/default-macmini-x64-5-0/julialang/julia-release-1-dot-8/usr/share/julia/stdlib/v1.8/Profile/src/Profile.jl:39\n",
      "#3 at ./threadingconstructs.jl:258\n",
      "jfptr_YY.3_63026.clone_1 at /Applications/Julia-1.8.app/Contents/Resources/julia/lib/julia/sys.dylib (unknown line)\n",
      "ijl_apply_generic at /Applications/Julia-1.8.app/Contents/Resources/julia/lib/julia/libjulia-internal.1.8.dylib (unknown line)\n",
      "start_task at /Applications/Julia-1.8.app/Contents/Resources/julia/lib/julia/libjulia-internal.1.8.dylib (unknown line)\n",
      "unknown function (ip: 0x0)\n",
      "nanov2_allocate_from_block at /usr/lib/system/libsystem_malloc.dylib (unknown line)\n",
      "nanov2_allocate at /usr/lib/system/libsystem_malloc.dylib (unknown line)\n",
      "nanov2_malloc at /usr/lib/system/libsystem_malloc.dylib (unknown line)\n",
      "nanov2_realloc at /usr/lib/system/libsystem_malloc.dylib (unknown line)\n",
      "malloc_zone_realloc at /usr/lib/system/libsystem_malloc.dylib (unknown line)\n",
      "realloc at /usr/lib/system/libsystem_malloc.dylib (unknown line)\n",
      "_ZN4llvm15SmallVectorBaseIjE8grow_podEPvmm at /Applications/Julia-1.8.app/Contents/Resources/julia/lib/julia/libjulia-internal.1.8.dylib (unknown line)\n",
      "_ZN4llvm20getUnderlyingObjectsEPKNS_5ValueERNS_15SmallVectorImplIS2_EEPNS_8LoopInfoEj at /Applications/Julia-1.8.app/Contents/Resources/julia/lib/julia/libLLVM.dylib (unknown line)\n",
      "_ZL18computePointerICmpN4llvm7CmpInst9PredicateEPNS_5ValueES3_RKNS_13SimplifyQueryE at /Applications/Julia-1.8.app/Contents/Resources/julia/lib/julia/libLLVM.dylib (unknown line)\n",
      "_ZL16SimplifyICmpInstjPN4llvm5ValueES1_RKNS_13SimplifyQueryEj at /Applications/Julia-1.8.app/Contents/Resources/julia/lib/julia/libLLVM.dylib (unknown line)\n",
      "_ZL31simplifyInstructionWithOperandsPN4llvm11InstructionENS_8ArrayRefIPNS_5ValueEEERKNS_13SimplifyQueryEPNS_25OptimizationRemarkEmitterE at /Applications/Julia-1.8.app/Contents/Resources/julia/lib/julia/libLLVM.dylib (unknown line)\n",
      "_ZN4llvm19SimplifyInstructionEPNS_11InstructionERKNS_13SimplifyQueryEPNS_25OptimizationRemarkEmitterE at /Applications/Julia-1.8.app/Contents/Resources/julia/lib/julia/libLLVM.dylib (unknown line)\n",
      "_ZL7runImplRN4llvm8FunctionERKNS_13SimplifyQueryEPNS_25OptimizationRemarkEmitterE at /Applications/Julia-1.8.app/Contents/Resources/julia/lib/julia/libLLVM.dylib (unknown line)\n",
      "_ZN12_GLOBAL__N_122InstSimplifyLegacyPass13runOnFunctionERN4llvm8FunctionE at /Applications/Julia-1.8.app/Contents/Resources/julia/lib/julia/libLLVM.dylib (unknown line)\n",
      "_ZN4llvm13FPPassManager13runOnFunctionERNS_8FunctionE at /Applications/Julia-1.8.app/Contents/Resources/julia/lib/julia/libLLVM.dylib (unknown line)\n",
      "_ZN4llvm13FPPassManager11runOnModuleERNS_6ModuleE at /Applications/Julia-1.8.app/Contents/Resources/julia/lib/julia/libLLVM.dylib (unknown line)\n",
      "_ZN4llvm6legacy15PassManagerImpl3runERNS_6ModuleE at /Applications/Julia-1.8.app/Contents/Resources/julia/lib/julia/libLLVM.dylib (unknown line)\n",
      "_ZN9JuliaOJIT9CompilerTclERN4llvm6ModuleE at /Applications/Julia-1.8.app/Contents/Resources/julia/lib/julia/libjulia-codegen.1.8.dylib (unknown line)\n",
      "_ZN4llvm3orc16ThreadSafeModule12withModuleDoIRNS0_14IRCompileLayer10IRCompilerEEEDcOT_ at /Applications/Julia-1.8.app/Contents/Resources/julia/lib/julia/libLLVM.dylib (unknown line)\n",
      "_ZN4llvm3orc14IRCompileLayer4emitENSt3__110unique_ptrINS0_29MaterializationResponsibilityENS2_14default_deleteIS4_EEEENS0_16ThreadSafeModuleE at /Applications/Julia-1.8.app/Contents/Resources/julia/lib/julia/libLLVM.dylib (unknown line)\n",
      "_ZN4llvm3orc31BasicIRLayerMaterializationUnit11materializeENSt3__110unique_ptrINS0_29MaterializationResponsibilityENS2_14default_deleteIS4_EEEE at /Applications/Julia-1.8.app/Contents/Resources/julia/lib/julia/libLLVM.dylib (unknown line)\n",
      "_ZN4llvm3orc19MaterializationTask3runEv at /Applications/Julia-1.8.app/Contents/Resources/julia/lib/julia/libLLVM.dylib (unknown line)\n",
      "_ZN4llvm6detail18UniqueFunctionBaseIvJNSt3__110unique_ptrINS_3orc4TaskENS2_14default_deleteIS5_EEEEEE8CallImplIPFvS8_EEEvPvRS8_ at /Applications/Julia-1.8.app/Contents/Resources/julia/lib/julia/libLLVM.dylib (unknown line)\n",
      "_ZN4llvm3orc16ExecutionSession22dispatchOutstandingMUsEv at /Applications/Julia-1.8.app/Contents/Resources/julia/lib/julia/libLLVM.dylib (unknown line)\n",
      "_ZN4llvm3orc16ExecutionSession17OL_completeLookupENSt3__110unique_ptrINS0_21InProgressLookupStateENS2_14default_deleteIS4_EEEENS2_10shared_ptrINS0_23AsynchronousSymbolQueryEEENS2_8functionIFvRKNS_8DenseMapIPNS0_8JITDylibENS_8DenseSetINS0_15SymbolStringPtrENS_12DenseMapInfoISG_EEEENSH_ISE_EENS_6detail12DenseMapPairISE_SJ_EEEEEEE at /Applications/Julia-1.8.app/Contents/Resources/julia/lib/julia/libLLVM.dylib (unknown line)\n",
      "_ZN4llvm3orc25InProgressFullLookupState8completeENSt3__110unique_ptrINS0_21InProgressLookupStateENS2_14default_deleteIS4_EEEE at /Applications/Julia-1.8.app/Contents/Resources/julia/lib/julia/libLLVM.dylib (unknown line)\n",
      "_ZN4llvm3orc16ExecutionSession19OL_applyQueryPhase1ENSt3__110unique_ptrINS0_21InProgressLookupStateENS2_14default_deleteIS4_EEEENS_5ErrorE at /Applications/Julia-1.8.app/Contents/Resources/julia/lib/julia/libLLVM.dylib (unknown line)\n",
      "_ZN4llvm3orc16ExecutionSession6lookupENS0_10LookupKindERKNSt3__16vectorINS3_4pairIPNS0_8JITDylibENS0_19JITDylibLookupFlagsEEENS3_9allocatorIS9_EEEENS0_15SymbolLookupSetENS0_11SymbolStateENS_15unique_functionIFvNS_8ExpectedINS_8DenseMapINS0_15SymbolStringPtrENS_18JITEvaluatedSymbolENS_12DenseMapInfoISK_EENS_6detail12DenseMapPairISK_SL_EEEEEEEEENS3_8functionIFvRKNSJ_IS7_NS_8DenseSetISK_SN_EENSM_IS7_EENSP_IS7_SX_EEEEEEE at /Applications/Julia-1.8.app/Contents/Resources/julia/lib/julia/libLLVM.dylib (unknown line)\n",
      "_ZN4llvm3orc16ExecutionSession6lookupERKNSt3__16vectorINS2_4pairIPNS0_8JITDylibENS0_19JITDylibLookupFlagsEEENS2_9allocatorIS8_EEEERKNS0_15SymbolLookupSetENS0_10LookupKindENS0_11SymbolStateENS2_8functionIFvRKNS_8DenseMapIS6_NS_8DenseSetINS0_15SymbolStringPtrENS_12DenseMapInfoISM_EEEENSN_IS6_EENS_6detail12DenseMapPairIS6_SP_EEEEEEE at /Applications/Julia-1.8.app/Contents/Resources/julia/lib/julia/libLLVM.dylib (unknown line)\n",
      "_ZN4llvm3orc16ExecutionSession6lookupERKNSt3__16vectorINS2_4pairIPNS0_8JITDylibENS0_19JITDylibLookupFlagsEEENS2_9allocatorIS8_EEEENS0_15SymbolStringPtrENS0_11SymbolStateE at /Applications/Julia-1.8.app/Contents/Resources/julia/lib/julia/libLLVM.dylib (unknown line)\n",
      "_ZN4llvm3orc16ExecutionSession6lookupENS_8ArrayRefIPNS0_8JITDylibEEENS0_15SymbolStringPtrENS0_11SymbolStateE at /Applications/Julia-1.8.app/Contents/Resources/julia/lib/julia/libLLVM.dylib (unknown line)\n",
      "_ZN4llvm3orc16ExecutionSession6lookupENS_8ArrayRefIPNS0_8JITDylibEEENS_9StringRefENS0_11SymbolStateE at /Applications/Julia-1.8.app/Contents/Resources/julia/lib/julia/libLLVM.dylib (unknown line)\n",
      "_ZN9JuliaOJIT9addModuleENSt3__110unique_ptrIN4llvm6ModuleENS0_14default_deleteIS3_EEEE at /Applications/Julia-1.8.app/Contents/Resources/julia/lib/julia/libjulia-codegen.1.8.dylib (unknown line)\n",
      "_ZL12jl_add_to_eeRNSt3__110unique_ptrIN4llvm6ModuleENS_14default_deleteIS2_EEEERNS1_9StringMapIPS5_NS1_15MallocAllocatorEEERNS1_8DenseMapIPS2_iNS1_12DenseMapInfoISD_EENS1_6detail12DenseMapPairISD_iEEEERNS_6vectorINSL_IS8_NS_9allocatorIS8_EEEENSM_ISO_EEEEi at /Applications/Julia-1.8.app/Contents/Resources/julia/lib/julia/libjulia-codegen.1.8.dylib (unknown line)\n",
      "_ZL12jl_add_to_eeRNSt3__110unique_ptrIN4llvm6ModuleENS_14default_deleteIS2_EEEERNS1_9StringMapIPS5_NS1_15MallocAllocatorEEERNS1_8DenseMapIPS2_iNS1_12DenseMapInfoISD_EENS1_6detail12DenseMapPairISD_iEEEERNS_6vectorINSL_IS8_NS_9allocatorIS8_EEEENSM_ISO_EEEEi at /Applications/Julia-1.8.app/Contents/Resources/julia/lib/julia/libjulia-codegen.1.8.dylib (unknown line)\n",
      "_ZL12jl_add_to_eeRNSt3__110unique_ptrIN4llvm6ModuleENS_14default_deleteIS2_EEEERNS1_9StringMapIPS5_NS1_15MallocAllocatorEEERNS1_8DenseMapIPS2_iNS1_12DenseMapInfoISD_EENS1_6detail12DenseMapPairISD_iEEEERNS_6vectorINSL_IS8_NS_9allocatorIS8_EEEENSM_ISO_EEEEi at /Applications/Julia-1.8.app/Contents/Resources/julia/lib/julia/libjulia-codegen.1.8.dylib (unknown line)\n",
      "_ZL12jl_add_to_eeRNSt3__110unique_ptrIN4llvm6ModuleENS_14default_deleteIS2_EEEERNS1_9StringMapIPS5_NS1_15MallocAllocatorEEERNS1_8DenseMapIPS2_iNS1_12DenseMapInfoISD_EENS1_6detail12DenseMapPairISD_iEEEERNS_6vectorINSL_IS8_NS_9allocatorIS8_EEEENSM_ISO_EEEEi at /Applications/Julia-1.8.app/Contents/Resources/julia/lib/julia/libjulia-codegen.1.8.dylib (unknown line)\n",
      "_ZL12jl_add_to_eeRNSt3__110unique_ptrIN4llvm6ModuleENS_14default_deleteIS2_EEEERNS1_9StringMapIPS5_NS1_15MallocAllocatorEEERNS1_8DenseMapIPS2_iNS1_12DenseMapInfoISD_EENS1_6detail12DenseMapPairISD_iEEEERNS_6vectorINSL_IS8_NS_9allocatorIS8_EEEENSM_ISO_EEEEi at /Applications/Julia-1.8.app/Contents/Resources/julia/lib/julia/libjulia-codegen.1.8.dylib (unknown line)\n",
      "_ZL20_jl_compile_codeinstP19_jl_code_instance_tP15_jl_code_info_tm at /Applications/Julia-1.8.app/Contents/Resources/julia/lib/julia/libjulia-codegen.1.8.dylib (unknown line)\n",
      "jl_generate_fptr_impl at /Applications/Julia-1.8.app/Contents/Resources/julia/lib/julia/libjulia-codegen.1.8.dylib (unknown line)\n",
      "jl_compile_method_internal at /Applications/Julia-1.8.app/Contents/Resources/julia/lib/julia/libjulia-internal.1.8.dylib (unknown line)\n",
      "ijl_apply_generic at /Applications/Julia-1.8.app/Contents/Resources/julia/lib/julia/libjulia-internal.1.8.dylib (unknown line)\n",
      "#showerror#862 at ./errorshow.jl:96\n",
      "showerror##kw at ./errorshow.jl:94\n",
      "unknown function (ip: 0x108b9c3aa)\n",
      "ijl_apply_generic at /Applications/Julia-1.8.app/Contents/Resources/julia/lib/julia/libjulia-internal.1.8.dylib (unknown line)\n",
      "show_exception_stack at ./errorshow.jl:878\n",
      "display_error at ./client.jl:103\n",
      "unknown function (ip: 0x108b9b76d)\n",
      "ijl_apply_generic at /Applications/Julia-1.8.app/Contents/Resources/julia/lib/julia/libjulia-internal.1.8.dylib (unknown line)\n",
      "display_error at ./client.jl:106\n",
      "jfptr_display_error_35196.clone_1 at /Applications/Julia-1.8.app/Contents/Resources/julia/lib/julia/sys.dylib (unknown line)\n",
      "ijl_apply_generic at /Applications/Julia-1.8.app/Contents/Resources/julia/lib/julia/libjulia-internal.1.8.dylib (unknown line)\n",
      "jl_f__call_latest at /Applications/Julia-1.8.app/Contents/Resources/julia/lib/julia/libjulia-internal.1.8.dylib (unknown line)\n",
      "#invokelatest#2 at ./essentials.jl:729 [inlined]\n",
      "invokelatest at ./essentials.jl:726 [inlined]\n",
      "exec_options at ./client.jl:306\n",
      "_start at ./client.jl:522\n",
      "jfptr__start_57423.clone_1 at /Applications/Julia-1.8.app/Contents/Resources/julia/lib/julia/sys.dylib (unknown line)\n",
      "ijl_apply_generic at /Applications/Julia-1.8.app/Contents/Resources/julia/lib/julia/libjulia-internal.1.8.dylib (unknown line)\n",
      "true_main at /Applications/Julia-1.8.app/Contents/Resources/julia/lib/julia/libjulia-internal.1.8.dylib (unknown line)\n",
      "jl_repl_entrypoint at /Applications/Julia-1.8.app/Contents/Resources/julia/lib/julia/libjulia-internal.1.8.dylib (unknown line)\n",
      "unknown function (ip: 0x0)\n",
      "Allocations: 65840138 (Pool: 65821656; Big: 18482); GC: 34\n"
     ]
    }
   ],
   "source": [
    ";julia --threads 9 ./src/Routines/LibrarySearch/routine.jl ./data/example_config/LibrarySearch_indy4b3_scorey3b2_ally3b2.json /Users/n.t.wamsley/TEST_DATA/mzXML/ /Users/n.t.wamsley/RIS_temp/BUILD_PROSIT_LIBS/nOf3_indy4b3_ally3b2 -s true -e LibrarySearch_indy4b3_scorey3b2_ally3b2"
   ]
  },
  {
   "cell_type": "code",
   "execution_count": 10,
   "id": "3f3e6f35-eee9-4ec8-85a4-cf4b32bcb6f7",
   "metadata": {
    "tags": []
   },
   "outputs": [
    {
     "name": "stdout",
     "output_type": "stream",
     "text": [
      "Importing Libraries...\n"
     ]
    },
    {
     "name": "stderr",
     "output_type": "stream",
     "text": [
      "ERROR: LoadError: ArgumentError: Package LsqFit not found in current path.\n",
      "- Run `import Pkg; Pkg.add(\"LsqFit\")` to install the LsqFit package.\n",
      "Stacktrace:\n",
      " [1] macro expansion\n",
      "   @ ./loading.jl:1163 [inlined]\n",
      " [2] macro expansion\n",
      "   @ ./lock.jl:223 [inlined]\n",
      " [3] require(into::Module, mod::Symbol)\n",
      "   @ Base ./loading.jl:1144\n",
      "in expression starting at /Users/n.t.wamsley/Projects/Titus/src/Routines/LibrarySearch/routine.jl:13\n"
     ]
    }
   ],
   "source": [
    ";julia --threads 9 ./src/Routines/LibrarySearch/routine.jl ./data/example_config/LibrarySearch_indy4b3_scorey4b3_ally3b2.json /Users/n.t.wamsley/TEST_DATA/mzXML/ /Users/n.t.wamsley/RIS_temp/BUILD_PROSIT_LIBS/nOf3_indy4b3_ally3b2 -s true -e LibrarySearch_indy4b3_scorey4b3_ally3b2"
   ]
  },
  {
   "cell_type": "code",
   "execution_count": 11,
   "id": "83794327-8b87-4d8f-b662-18c64133f398",
   "metadata": {
    "tags": []
   },
   "outputs": [
    {
     "name": "stdout",
     "output_type": "stream",
     "text": [
      "Importing Libraries...\n"
     ]
    },
    {
     "name": "stderr",
     "output_type": "stream",
     "text": [
      "ERROR: LoadError: ArgumentError: Package LsqFit not found in current path.\n",
      "- Run `import Pkg; Pkg.add(\"LsqFit\")` to install the LsqFit package.\n",
      "Stacktrace:\n",
      " [1] macro expansion\n",
      "   @ ./loading.jl:1163 [inlined]\n",
      " [2] macro expansion\n",
      "   @ ./lock.jl:223 [inlined]\n",
      " [3] require(into::Module, mod::Symbol)\n",
      "   @ Base ./loading.jl:1144\n",
      "in expression starting at /Users/n.t.wamsley/Projects/Titus/src/Routines/LibrarySearch/routine.jl:13\n"
     ]
    }
   ],
   "source": [
    ";julia --threads 9 ./src/Routines/LibrarySearch/routine.jl ./data/example_config/LibrarySearch_indy4b3_scorey3b2_ally2b1_maxpeakstrue.json /Users/n.t.wamsley/TEST_DATA/mzXML/ /Users/n.t.wamsley/RIS_temp/BUILD_PROSIT_LIBS/nOf3_indy4b3_ally2b1_maxpeakstrue -s true -e LibrarySearch_indy4b3_scorey3b2_ally2b1_maxpeakstrue"
   ]
  },
  {
   "cell_type": "code",
   "execution_count": null,
   "id": "650fd562-e1f7-4a76-8036-5db100f5a442",
   "metadata": {},
   "outputs": [],
   "source": []
  }
 ],
 "metadata": {
  "kernelspec": {
   "display_name": "Julia 1.8.5",
   "language": "julia",
   "name": "julia-1.8"
  },
  "language_info": {
   "file_extension": ".jl",
   "mimetype": "application/julia",
   "name": "julia",
   "version": "1.8.5"
  }
 },
 "nbformat": 4,
 "nbformat_minor": 5
}
