{
 "cells": [
  {
   "cell_type": "markdown",
   "id": "ea7d2c01-2d23-4239-bf1f-24a5f4c5e80e",
   "metadata": {},
   "source": [
    "### Survey Run Analyses\n",
    "```\n",
    "; julia ./src/Routines/PRM/IS-PRM_SURVEY/routine.jl ./data/example_config/IS-PRM-SURVEY-TEST.json ./data/parquet/ ./data/NRF2_SIL.txt\n",
    "```\n",
    "### ARGS\n",
    "|Name                |Default| Short        |Description                    |\n",
    " |--------------------|-------|-------------|--------------------|\n",
    " |params_json||mandatory|Path to a .json file with the parameters (see Configuration)\n",
    " |data_dir||mandatory|\"Path to a folder with .arrow MS data tables\"\n",
    " |precursor_list||mandatory|\"Path to a tab delimited table of precursors\"\n",
    " |--make_plots|true|-p|\"Whether to make plots. Defaults to `true`\"\n",
    " |--print_params|false|-s|\"Whether to print the parameters from the json. Defaults to `false`\"\n",
    " \n",
    " ### CONFIG\n",
    " ```\n",
    "{\n",
    "    \"right_precursor_tolerance\": 0.001,\n",
    "    \"left_precursor_tolerance\": 0.001,\n",
    "    \"precursor_rt_tolerance\": 0.3,\n",
    "    \"b_ladder_start\": 3,\n",
    "    \"y_ladder_start\": 3,\n",
    "    \"precursor_charges\": [2, 3, 4],\n",
    "    \"precursor_isotopes\": [0],\n",
    "    \"transition_charges\": [1, 2],\n",
    "    \"transition_isotopes\": [0],\n",
    "    \"fragment_match_ppm\": 40,\n",
    "    \"minimum_fragment_count\": 5,\n",
    "    \"fragments_to_select\": 5,\n",
    "    \"precursor_rt_window\": 0.3,\n",
    "    \"max_variable_mods\": 2,\n",
    "    \"fixed_mods\":[\n",
    "                     [\"C\",\"C[Carb]\"],\n",
    "                     [\"K$\",\"K[Hlys]\"],\n",
    "                     [\"R$\",\"R[Harg]\"]\n",
    "    ],\n",
    "    \"variable_mods\":\n",
    "    [],\n",
    "    \"modification_masses\":\n",
    "        {\n",
    "        \"Carb\":57.021464,\n",
    "        \"Harg\":10.008269,\n",
    "        \"Hlys\":8.014199\n",
    "        },\n",
    "    \"ms_file_conditions\":\n",
    "        {\n",
    "            \"_35NCE_\":\"35NCE\",\n",
    "            \"_40NCE_\":\"40NCE\",\n",
    "            \"GAPDH\":\"GAPDH\"\n",
    "        }\n",
    "}\n",
    "```\n",
    " "
   ]
  },
  {
   "cell_type": "code",
   "execution_count": 10,
   "id": "402c1c91-5919-4761-97fb-1016f13b021f",
   "metadata": {
    "tags": []
   },
   "outputs": [
    {
     "name": "stdout",
     "output_type": "stream",
     "text": [
      "Processing: 2 files\n",
      "Time to build precursor table 0.001320423\n",
      " Scored 662 precursors\n",
      " 16.554006 seconds (69.86 M allocations: 3.991 GiB, 4.53% gc time, 89.78% compilation time: 1% of which was recompilation)\n",
      " 64.459390 seconds (102.71 M allocations: 5.557 GiB, 1.43% gc time, 12.69% compilation time: 39% of which was recompilation)\n"
     ]
    }
   ],
   "source": [
    "; julia ./src/Routines/PRM/IS-PRM-SURVEY/routine.jl ./data/example_config/IS-PRM-SURVEY-TEST.json /Users/n.t.wamsley/RIS_Temp/EWZ_KINOME/survey_runs /Users/n.t.wamsley/RIS_Temp/EWZ_KINOME/KINOME_MAR23.txt"
   ]
  },
  {
   "cell_type": "markdown",
   "id": "21ed5d32-08df-4e4b-8290-2ff8b2036238",
   "metadata": {},
   "source": [
    "### Survey Run Analyses\n",
    "```\n",
    "; julia ./src/Routines/PRM/IS-PRM_SURVEY/routine.jl ./data/test.json ./data/parquet/ ./data/NRF2_SIL.txt\n",
    "```\n",
    "|Name                |Default| Short        |Description                    |\n",
    " |--------------------|-------|-------------|--------------------|\n",
    " |params_json||mandatory|Path to a .json file with the parameters (see Configuration)\n",
    " |data_dir||mandatory|\"Path to a folder with .arrow MS data tables\"\n",
    " |transition_list||mandatory|\"Path to a tab delimited table of transitions\"\n",
    " |--make_plots|true|-p|\"Whether to make plots. Defaults to `true`\"\n",
    " |--print_params|false|-s|\"Whether to print the parameters from the json. Defaults to `false`\""
   ]
  },
  {
   "cell_type": "code",
   "execution_count": 12,
   "id": "89e6e44b-3798-400f-b5c1-704d25cd27ff",
   "metadata": {
    "tags": []
   },
   "outputs": [],
   "source": [
    "#; julia --threads 24 ./src/Routines/PRM/IS-PRM/routine.jl ./data/example_config/IS-PRM-TEST.json /Users/n.t.wamsley/RIS_Temp/EWZ_KINOME/parquet_out /Users/n.t.wamsley/RIS_Temp/EWZ_KINOME/survey_runs/transition_list.csv"
   ]
  },
  {
   "cell_type": "code",
   "execution_count": null,
   "id": "9e21f7b5-a9da-4f2a-b389-c3e6295821bf",
   "metadata": {},
   "outputs": [],
   "source": [
    "; julia --threads 24 ./src/Routines/PRM/IS-PRM/routine.jl ./data/example_config/IS-PRM-TEST.json /Users/n.t.wamsley/RIS_Temp/EWZ_KINOME/parquet_out ../MOUSE_PANEL_SEP_2023.txt ../SurveyRuns/DI_5uL/transition_list.csv"
   ]
  }
 ],
 "metadata": {
  "kernelspec": {
   "display_name": "Julia 1.8.5",
   "language": "julia",
   "name": "julia-1.8"
  },
  "language_info": {
   "file_extension": ".jl",
   "mimetype": "application/julia",
   "name": "julia",
   "version": "1.8.5"
  }
 },
 "nbformat": 4,
 "nbformat_minor": 5
}
